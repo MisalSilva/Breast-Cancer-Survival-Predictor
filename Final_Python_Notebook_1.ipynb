{
  "nbformat": 4,
  "nbformat_minor": 0,
  "metadata": {
    "colab": {
      "provenance": []
    },
    "kernelspec": {
      "name": "python3",
      "display_name": "Python 3"
    },
    "language_info": {
      "name": "python"
    }
  },
  "cells": [
    {
      "cell_type": "markdown",
      "source": [
        "# **Final Python Notebook 1**\n",
        "* Author - C.M.M.S Silva\n",
        "* IIT ID - 20230183\n",
        "* UoW ID - w2053190\n",
        "* Code Peer Reviewer - Pamodi Pansiluni"
      ],
      "metadata": {
        "id": "8KdrtrontcCb"
      }
    },
    {
      "cell_type": "code",
      "source": [
        "# import pandas library\n",
        "import pandas as pd"
      ],
      "metadata": {
        "id": "pDntRgjdtlFX"
      },
      "execution_count": 1,
      "outputs": []
    },
    {
      "cell_type": "code",
      "source": [
        "# import numpy and other necessary libraries\n",
        "import numpy as np\n",
        "from sklearn.model_selection import train_test_split\n",
        "from sklearn.preprocessing import LabelEncoder\n",
        "from sklearn.impute import SimpleImputer\n",
        "from sklearn.preprocessing import StandardScaler"
      ],
      "metadata": {
        "id": "O8jJ3Dr0t1DN"
      },
      "execution_count": 2,
      "outputs": []
    },
    {
      "cell_type": "code",
      "source": [
        "# load the dataset\n",
        "data = pd.read_csv('/content/drive/MyDrive/5DATA001C.2 Machine Learning and Data Mining/CW dataset/5DATA002W.2 Coursework Dataset(25012025v6.0).csv')\n",
        "print(data.head())"
      ],
      "metadata": {
        "colab": {
          "base_uri": "https://localhost:8080/"
        },
        "id": "NLXEyEkut1k4",
        "outputId": "3d4234c5-addd-4f45-e9cc-b5ec552be2d4"
      },
      "execution_count": 3,
      "outputs": [
        {
          "output_type": "stream",
          "name": "stdout",
          "text": [
            "  Patient_ID  Month_of_Birth   Age     Sex   Occupation T_Stage N_Stage  \\\n",
            "0      A0012              12  68.0  Female     Teaching      T1      N1   \n",
            "1      A0013              12  50.0  Female      Medical      T2      N2   \n",
            "2      A0014              11  58.0  Female  Engineering      T3      N3   \n",
            "3      A0015               3  58.0  Female   Technology      T1      N1   \n",
            "4      A0016               1  47.0  Female   Multimedia      T2      N1   \n",
            "\n",
            "  6th_Stage             Differentiated  Grade   A_Stage  Tumor_Size  \\\n",
            "0       IIA      Poorly differentiated      3  Regional         4.0   \n",
            "1      IIIA  Moderately differentiated      2  Regional        35.0   \n",
            "2      IIIC  Moderately differentiated      2  Regional        63.0   \n",
            "3       IIA      Poorly differentiated      3  Regional        18.0   \n",
            "4       IIB      Poorly differentiated      3  Regional        41.0   \n",
            "\n",
            "  Estrogen_Status Progesterone_Status  Regional_Node_Examined  \\\n",
            "0        Positive            Positive                    24.0   \n",
            "1        Positive            Positive                    14.0   \n",
            "2        Positive            Positive                    14.0   \n",
            "3        Positive            Positive                     2.0   \n",
            "4        Positive            Positive                     3.0   \n",
            "\n",
            "   Reginol_Node_Positive  Survival_Months Mortality_Status  \n",
            "0                      1               60            Alive  \n",
            "1                      5               62            Alive  \n",
            "2                      7               75            Alive  \n",
            "3                      1               84            Alive  \n",
            "4                      1               50            Alive  \n"
          ]
        }
      ]
    },
    {
      "cell_type": "code",
      "source": [
        "# Take the sum of the null values in each variable\n",
        "print(data.isnull().sum())"
      ],
      "metadata": {
        "colab": {
          "base_uri": "https://localhost:8080/"
        },
        "id": "coWoIPKTt4Ge",
        "outputId": "93c8d508-f56b-49ed-a86a-27a8b69268c8"
      },
      "execution_count": 4,
      "outputs": [
        {
          "output_type": "stream",
          "name": "stdout",
          "text": [
            "Patient_ID                   0\n",
            "Month_of_Birth               0\n",
            "Age                          9\n",
            "Sex                          4\n",
            "Occupation                3981\n",
            "T_Stage                      0\n",
            "N_Stage                      0\n",
            "6th_Stage                    0\n",
            "Differentiated               0\n",
            "Grade                        0\n",
            "A_Stage                      0\n",
            "Tumor_Size                   3\n",
            "Estrogen_Status              0\n",
            "Progesterone_Status          0\n",
            "Regional_Node_Examined       1\n",
            "Reginol_Node_Positive        0\n",
            "Survival_Months              0\n",
            "Mortality_Status             0\n",
            "dtype: int64\n"
          ]
        }
      ]
    },
    {
      "cell_type": "code",
      "source": [
        "# Drop certain Variables that are unwanted for Training and Analysing\n",
        "data.drop(columns=['Occupation'], inplace=True)\n",
        "data.drop(columns=['Patient_ID'], inplace=True)\n",
        "data.drop(columns=['Month_of_Birth'], inplace=True)\n",
        "print(data.isnull().sum())"
      ],
      "metadata": {
        "colab": {
          "base_uri": "https://localhost:8080/"
        },
        "id": "Jm19F3Yluweh",
        "outputId": "8d31f44a-3e09-41a8-83ac-d76b529e3d7e"
      },
      "execution_count": 5,
      "outputs": [
        {
          "output_type": "stream",
          "name": "stdout",
          "text": [
            "Age                       9\n",
            "Sex                       4\n",
            "T_Stage                   0\n",
            "N_Stage                   0\n",
            "6th_Stage                 0\n",
            "Differentiated            0\n",
            "Grade                     0\n",
            "A_Stage                   0\n",
            "Tumor_Size                3\n",
            "Estrogen_Status           0\n",
            "Progesterone_Status       0\n",
            "Regional_Node_Examined    1\n",
            "Reginol_Node_Positive     0\n",
            "Survival_Months           0\n",
            "Mortality_Status          0\n",
            "dtype: int64\n"
          ]
        }
      ]
    },
    {
      "cell_type": "code",
      "source": [
        "# Print the data types\n",
        "print(data.dtypes)"
      ],
      "metadata": {
        "colab": {
          "base_uri": "https://localhost:8080/"
        },
        "id": "keigm6EAyeTl",
        "outputId": "51591930-dbb4-4742-c4ad-2d72d943c594"
      },
      "execution_count": 6,
      "outputs": [
        {
          "output_type": "stream",
          "name": "stdout",
          "text": [
            "Age                       float64\n",
            "Sex                        object\n",
            "T_Stage                    object\n",
            "N_Stage                    object\n",
            "6th_Stage                  object\n",
            "Differentiated             object\n",
            "Grade                       int64\n",
            "A_Stage                    object\n",
            "Tumor_Size                float64\n",
            "Estrogen_Status            object\n",
            "Progesterone_Status        object\n",
            "Regional_Node_Examined    float64\n",
            "Reginol_Node_Positive       int64\n",
            "Survival_Months             int64\n",
            "Mortality_Status           object\n",
            "dtype: object\n"
          ]
        }
      ]
    },
    {
      "cell_type": "code",
      "source": [
        "# Describe the dataset\n",
        "data.describe(include='all')"
      ],
      "metadata": {
        "colab": {
          "base_uri": "https://localhost:8080/",
          "height": 432
        },
        "id": "POn-b1xbymE2",
        "outputId": "93fdc537-c1d6-4eb7-d3fe-5fe574b550d2"
      },
      "execution_count": 7,
      "outputs": [
        {
          "output_type": "execute_result",
          "data": {
            "text/plain": [
              "                Age     Sex T_Stage N_Stage 6th_Stage  \\\n",
              "count   4015.000000    4020    4024    4024      4024   \n",
              "unique          NaN       2       4       3         5   \n",
              "top             NaN  Female      T2      N1       IIA   \n",
              "freq            NaN    4001    1786    2732      1305   \n",
              "mean      54.107098     NaN     NaN     NaN       NaN   \n",
              "std       11.715528     NaN     NaN     NaN       NaN   \n",
              "min      -50.000000     NaN     NaN     NaN       NaN   \n",
              "25%       47.000000     NaN     NaN     NaN       NaN   \n",
              "50%       54.000000     NaN     NaN     NaN       NaN   \n",
              "75%       61.000000     NaN     NaN     NaN       NaN   \n",
              "max      502.000000     NaN     NaN     NaN       NaN   \n",
              "\n",
              "                   Differentiated        Grade   A_Stage   Tumor_Size  \\\n",
              "count                        4024  4024.000000      4024  4021.000000   \n",
              "unique                          4          NaN         2          NaN   \n",
              "top     Moderately differentiated          NaN  Regional          NaN   \n",
              "freq                         2351          NaN      3932          NaN   \n",
              "mean                          NaN     2.150596       NaN    30.419299   \n",
              "std                           NaN     0.638234       NaN    21.161080   \n",
              "min                           NaN     1.000000       NaN   -75.000000   \n",
              "25%                           NaN     2.000000       NaN    16.000000   \n",
              "50%                           NaN     2.000000       NaN    25.000000   \n",
              "75%                           NaN     3.000000       NaN    38.000000   \n",
              "max                           NaN     4.000000       NaN   140.000000   \n",
              "\n",
              "       Estrogen_Status Progesterone_Status  Regional_Node_Examined  \\\n",
              "count             4024                4024             4023.000000   \n",
              "unique               2                   2                     NaN   \n",
              "top           Positive            Positive                     NaN   \n",
              "freq              3755                3326                     NaN   \n",
              "mean               NaN                 NaN               14.373602   \n",
              "std                NaN                 NaN                8.129293   \n",
              "min                NaN                 NaN                1.000000   \n",
              "25%                NaN                 NaN                9.000000   \n",
              "50%                NaN                 NaN               14.000000   \n",
              "75%                NaN                 NaN               19.000000   \n",
              "max                NaN                 NaN               61.000000   \n",
              "\n",
              "        Reginol_Node_Positive  Survival_Months Mortality_Status  \n",
              "count             4024.000000      4024.000000             4024  \n",
              "unique                    NaN              NaN                7  \n",
              "top                       NaN              NaN            Alive  \n",
              "freq                      NaN              NaN             3399  \n",
              "mean                 4.158052        71.472167              NaN  \n",
              "std                  5.109331        25.361855              NaN  \n",
              "min                  1.000000         1.000000              NaN  \n",
              "25%                  1.000000        56.000000              NaN  \n",
              "50%                  2.000000        73.000000              NaN  \n",
              "75%                  5.000000        90.000000              NaN  \n",
              "max                 46.000000       760.000000              NaN  "
            ],
            "text/html": [
              "\n",
              "  <div id=\"df-733d5f97-263f-49e9-8283-cb84d4749ab2\" class=\"colab-df-container\">\n",
              "    <div>\n",
              "<style scoped>\n",
              "    .dataframe tbody tr th:only-of-type {\n",
              "        vertical-align: middle;\n",
              "    }\n",
              "\n",
              "    .dataframe tbody tr th {\n",
              "        vertical-align: top;\n",
              "    }\n",
              "\n",
              "    .dataframe thead th {\n",
              "        text-align: right;\n",
              "    }\n",
              "</style>\n",
              "<table border=\"1\" class=\"dataframe\">\n",
              "  <thead>\n",
              "    <tr style=\"text-align: right;\">\n",
              "      <th></th>\n",
              "      <th>Age</th>\n",
              "      <th>Sex</th>\n",
              "      <th>T_Stage</th>\n",
              "      <th>N_Stage</th>\n",
              "      <th>6th_Stage</th>\n",
              "      <th>Differentiated</th>\n",
              "      <th>Grade</th>\n",
              "      <th>A_Stage</th>\n",
              "      <th>Tumor_Size</th>\n",
              "      <th>Estrogen_Status</th>\n",
              "      <th>Progesterone_Status</th>\n",
              "      <th>Regional_Node_Examined</th>\n",
              "      <th>Reginol_Node_Positive</th>\n",
              "      <th>Survival_Months</th>\n",
              "      <th>Mortality_Status</th>\n",
              "    </tr>\n",
              "  </thead>\n",
              "  <tbody>\n",
              "    <tr>\n",
              "      <th>count</th>\n",
              "      <td>4015.000000</td>\n",
              "      <td>4020</td>\n",
              "      <td>4024</td>\n",
              "      <td>4024</td>\n",
              "      <td>4024</td>\n",
              "      <td>4024</td>\n",
              "      <td>4024.000000</td>\n",
              "      <td>4024</td>\n",
              "      <td>4021.000000</td>\n",
              "      <td>4024</td>\n",
              "      <td>4024</td>\n",
              "      <td>4023.000000</td>\n",
              "      <td>4024.000000</td>\n",
              "      <td>4024.000000</td>\n",
              "      <td>4024</td>\n",
              "    </tr>\n",
              "    <tr>\n",
              "      <th>unique</th>\n",
              "      <td>NaN</td>\n",
              "      <td>2</td>\n",
              "      <td>4</td>\n",
              "      <td>3</td>\n",
              "      <td>5</td>\n",
              "      <td>4</td>\n",
              "      <td>NaN</td>\n",
              "      <td>2</td>\n",
              "      <td>NaN</td>\n",
              "      <td>2</td>\n",
              "      <td>2</td>\n",
              "      <td>NaN</td>\n",
              "      <td>NaN</td>\n",
              "      <td>NaN</td>\n",
              "      <td>7</td>\n",
              "    </tr>\n",
              "    <tr>\n",
              "      <th>top</th>\n",
              "      <td>NaN</td>\n",
              "      <td>Female</td>\n",
              "      <td>T2</td>\n",
              "      <td>N1</td>\n",
              "      <td>IIA</td>\n",
              "      <td>Moderately differentiated</td>\n",
              "      <td>NaN</td>\n",
              "      <td>Regional</td>\n",
              "      <td>NaN</td>\n",
              "      <td>Positive</td>\n",
              "      <td>Positive</td>\n",
              "      <td>NaN</td>\n",
              "      <td>NaN</td>\n",
              "      <td>NaN</td>\n",
              "      <td>Alive</td>\n",
              "    </tr>\n",
              "    <tr>\n",
              "      <th>freq</th>\n",
              "      <td>NaN</td>\n",
              "      <td>4001</td>\n",
              "      <td>1786</td>\n",
              "      <td>2732</td>\n",
              "      <td>1305</td>\n",
              "      <td>2351</td>\n",
              "      <td>NaN</td>\n",
              "      <td>3932</td>\n",
              "      <td>NaN</td>\n",
              "      <td>3755</td>\n",
              "      <td>3326</td>\n",
              "      <td>NaN</td>\n",
              "      <td>NaN</td>\n",
              "      <td>NaN</td>\n",
              "      <td>3399</td>\n",
              "    </tr>\n",
              "    <tr>\n",
              "      <th>mean</th>\n",
              "      <td>54.107098</td>\n",
              "      <td>NaN</td>\n",
              "      <td>NaN</td>\n",
              "      <td>NaN</td>\n",
              "      <td>NaN</td>\n",
              "      <td>NaN</td>\n",
              "      <td>2.150596</td>\n",
              "      <td>NaN</td>\n",
              "      <td>30.419299</td>\n",
              "      <td>NaN</td>\n",
              "      <td>NaN</td>\n",
              "      <td>14.373602</td>\n",
              "      <td>4.158052</td>\n",
              "      <td>71.472167</td>\n",
              "      <td>NaN</td>\n",
              "    </tr>\n",
              "    <tr>\n",
              "      <th>std</th>\n",
              "      <td>11.715528</td>\n",
              "      <td>NaN</td>\n",
              "      <td>NaN</td>\n",
              "      <td>NaN</td>\n",
              "      <td>NaN</td>\n",
              "      <td>NaN</td>\n",
              "      <td>0.638234</td>\n",
              "      <td>NaN</td>\n",
              "      <td>21.161080</td>\n",
              "      <td>NaN</td>\n",
              "      <td>NaN</td>\n",
              "      <td>8.129293</td>\n",
              "      <td>5.109331</td>\n",
              "      <td>25.361855</td>\n",
              "      <td>NaN</td>\n",
              "    </tr>\n",
              "    <tr>\n",
              "      <th>min</th>\n",
              "      <td>-50.000000</td>\n",
              "      <td>NaN</td>\n",
              "      <td>NaN</td>\n",
              "      <td>NaN</td>\n",
              "      <td>NaN</td>\n",
              "      <td>NaN</td>\n",
              "      <td>1.000000</td>\n",
              "      <td>NaN</td>\n",
              "      <td>-75.000000</td>\n",
              "      <td>NaN</td>\n",
              "      <td>NaN</td>\n",
              "      <td>1.000000</td>\n",
              "      <td>1.000000</td>\n",
              "      <td>1.000000</td>\n",
              "      <td>NaN</td>\n",
              "    </tr>\n",
              "    <tr>\n",
              "      <th>25%</th>\n",
              "      <td>47.000000</td>\n",
              "      <td>NaN</td>\n",
              "      <td>NaN</td>\n",
              "      <td>NaN</td>\n",
              "      <td>NaN</td>\n",
              "      <td>NaN</td>\n",
              "      <td>2.000000</td>\n",
              "      <td>NaN</td>\n",
              "      <td>16.000000</td>\n",
              "      <td>NaN</td>\n",
              "      <td>NaN</td>\n",
              "      <td>9.000000</td>\n",
              "      <td>1.000000</td>\n",
              "      <td>56.000000</td>\n",
              "      <td>NaN</td>\n",
              "    </tr>\n",
              "    <tr>\n",
              "      <th>50%</th>\n",
              "      <td>54.000000</td>\n",
              "      <td>NaN</td>\n",
              "      <td>NaN</td>\n",
              "      <td>NaN</td>\n",
              "      <td>NaN</td>\n",
              "      <td>NaN</td>\n",
              "      <td>2.000000</td>\n",
              "      <td>NaN</td>\n",
              "      <td>25.000000</td>\n",
              "      <td>NaN</td>\n",
              "      <td>NaN</td>\n",
              "      <td>14.000000</td>\n",
              "      <td>2.000000</td>\n",
              "      <td>73.000000</td>\n",
              "      <td>NaN</td>\n",
              "    </tr>\n",
              "    <tr>\n",
              "      <th>75%</th>\n",
              "      <td>61.000000</td>\n",
              "      <td>NaN</td>\n",
              "      <td>NaN</td>\n",
              "      <td>NaN</td>\n",
              "      <td>NaN</td>\n",
              "      <td>NaN</td>\n",
              "      <td>3.000000</td>\n",
              "      <td>NaN</td>\n",
              "      <td>38.000000</td>\n",
              "      <td>NaN</td>\n",
              "      <td>NaN</td>\n",
              "      <td>19.000000</td>\n",
              "      <td>5.000000</td>\n",
              "      <td>90.000000</td>\n",
              "      <td>NaN</td>\n",
              "    </tr>\n",
              "    <tr>\n",
              "      <th>max</th>\n",
              "      <td>502.000000</td>\n",
              "      <td>NaN</td>\n",
              "      <td>NaN</td>\n",
              "      <td>NaN</td>\n",
              "      <td>NaN</td>\n",
              "      <td>NaN</td>\n",
              "      <td>4.000000</td>\n",
              "      <td>NaN</td>\n",
              "      <td>140.000000</td>\n",
              "      <td>NaN</td>\n",
              "      <td>NaN</td>\n",
              "      <td>61.000000</td>\n",
              "      <td>46.000000</td>\n",
              "      <td>760.000000</td>\n",
              "      <td>NaN</td>\n",
              "    </tr>\n",
              "  </tbody>\n",
              "</table>\n",
              "</div>\n",
              "    <div class=\"colab-df-buttons\">\n",
              "\n",
              "  <div class=\"colab-df-container\">\n",
              "    <button class=\"colab-df-convert\" onclick=\"convertToInteractive('df-733d5f97-263f-49e9-8283-cb84d4749ab2')\"\n",
              "            title=\"Convert this dataframe to an interactive table.\"\n",
              "            style=\"display:none;\">\n",
              "\n",
              "  <svg xmlns=\"http://www.w3.org/2000/svg\" height=\"24px\" viewBox=\"0 -960 960 960\">\n",
              "    <path d=\"M120-120v-720h720v720H120Zm60-500h600v-160H180v160Zm220 220h160v-160H400v160Zm0 220h160v-160H400v160ZM180-400h160v-160H180v160Zm440 0h160v-160H620v160ZM180-180h160v-160H180v160Zm440 0h160v-160H620v160Z\"/>\n",
              "  </svg>\n",
              "    </button>\n",
              "\n",
              "  <style>\n",
              "    .colab-df-container {\n",
              "      display:flex;\n",
              "      gap: 12px;\n",
              "    }\n",
              "\n",
              "    .colab-df-convert {\n",
              "      background-color: #E8F0FE;\n",
              "      border: none;\n",
              "      border-radius: 50%;\n",
              "      cursor: pointer;\n",
              "      display: none;\n",
              "      fill: #1967D2;\n",
              "      height: 32px;\n",
              "      padding: 0 0 0 0;\n",
              "      width: 32px;\n",
              "    }\n",
              "\n",
              "    .colab-df-convert:hover {\n",
              "      background-color: #E2EBFA;\n",
              "      box-shadow: 0px 1px 2px rgba(60, 64, 67, 0.3), 0px 1px 3px 1px rgba(60, 64, 67, 0.15);\n",
              "      fill: #174EA6;\n",
              "    }\n",
              "\n",
              "    .colab-df-buttons div {\n",
              "      margin-bottom: 4px;\n",
              "    }\n",
              "\n",
              "    [theme=dark] .colab-df-convert {\n",
              "      background-color: #3B4455;\n",
              "      fill: #D2E3FC;\n",
              "    }\n",
              "\n",
              "    [theme=dark] .colab-df-convert:hover {\n",
              "      background-color: #434B5C;\n",
              "      box-shadow: 0px 1px 3px 1px rgba(0, 0, 0, 0.15);\n",
              "      filter: drop-shadow(0px 1px 2px rgba(0, 0, 0, 0.3));\n",
              "      fill: #FFFFFF;\n",
              "    }\n",
              "  </style>\n",
              "\n",
              "    <script>\n",
              "      const buttonEl =\n",
              "        document.querySelector('#df-733d5f97-263f-49e9-8283-cb84d4749ab2 button.colab-df-convert');\n",
              "      buttonEl.style.display =\n",
              "        google.colab.kernel.accessAllowed ? 'block' : 'none';\n",
              "\n",
              "      async function convertToInteractive(key) {\n",
              "        const element = document.querySelector('#df-733d5f97-263f-49e9-8283-cb84d4749ab2');\n",
              "        const dataTable =\n",
              "          await google.colab.kernel.invokeFunction('convertToInteractive',\n",
              "                                                    [key], {});\n",
              "        if (!dataTable) return;\n",
              "\n",
              "        const docLinkHtml = 'Like what you see? Visit the ' +\n",
              "          '<a target=\"_blank\" href=https://colab.research.google.com/notebooks/data_table.ipynb>data table notebook</a>'\n",
              "          + ' to learn more about interactive tables.';\n",
              "        element.innerHTML = '';\n",
              "        dataTable['output_type'] = 'display_data';\n",
              "        await google.colab.output.renderOutput(dataTable, element);\n",
              "        const docLink = document.createElement('div');\n",
              "        docLink.innerHTML = docLinkHtml;\n",
              "        element.appendChild(docLink);\n",
              "      }\n",
              "    </script>\n",
              "  </div>\n",
              "\n",
              "\n",
              "    <div id=\"df-dd84a655-9daa-4c57-beae-9182780d325f\">\n",
              "      <button class=\"colab-df-quickchart\" onclick=\"quickchart('df-dd84a655-9daa-4c57-beae-9182780d325f')\"\n",
              "                title=\"Suggest charts\"\n",
              "                style=\"display:none;\">\n",
              "\n",
              "<svg xmlns=\"http://www.w3.org/2000/svg\" height=\"24px\"viewBox=\"0 0 24 24\"\n",
              "     width=\"24px\">\n",
              "    <g>\n",
              "        <path d=\"M19 3H5c-1.1 0-2 .9-2 2v14c0 1.1.9 2 2 2h14c1.1 0 2-.9 2-2V5c0-1.1-.9-2-2-2zM9 17H7v-7h2v7zm4 0h-2V7h2v10zm4 0h-2v-4h2v4z\"/>\n",
              "    </g>\n",
              "</svg>\n",
              "      </button>\n",
              "\n",
              "<style>\n",
              "  .colab-df-quickchart {\n",
              "      --bg-color: #E8F0FE;\n",
              "      --fill-color: #1967D2;\n",
              "      --hover-bg-color: #E2EBFA;\n",
              "      --hover-fill-color: #174EA6;\n",
              "      --disabled-fill-color: #AAA;\n",
              "      --disabled-bg-color: #DDD;\n",
              "  }\n",
              "\n",
              "  [theme=dark] .colab-df-quickchart {\n",
              "      --bg-color: #3B4455;\n",
              "      --fill-color: #D2E3FC;\n",
              "      --hover-bg-color: #434B5C;\n",
              "      --hover-fill-color: #FFFFFF;\n",
              "      --disabled-bg-color: #3B4455;\n",
              "      --disabled-fill-color: #666;\n",
              "  }\n",
              "\n",
              "  .colab-df-quickchart {\n",
              "    background-color: var(--bg-color);\n",
              "    border: none;\n",
              "    border-radius: 50%;\n",
              "    cursor: pointer;\n",
              "    display: none;\n",
              "    fill: var(--fill-color);\n",
              "    height: 32px;\n",
              "    padding: 0;\n",
              "    width: 32px;\n",
              "  }\n",
              "\n",
              "  .colab-df-quickchart:hover {\n",
              "    background-color: var(--hover-bg-color);\n",
              "    box-shadow: 0 1px 2px rgba(60, 64, 67, 0.3), 0 1px 3px 1px rgba(60, 64, 67, 0.15);\n",
              "    fill: var(--button-hover-fill-color);\n",
              "  }\n",
              "\n",
              "  .colab-df-quickchart-complete:disabled,\n",
              "  .colab-df-quickchart-complete:disabled:hover {\n",
              "    background-color: var(--disabled-bg-color);\n",
              "    fill: var(--disabled-fill-color);\n",
              "    box-shadow: none;\n",
              "  }\n",
              "\n",
              "  .colab-df-spinner {\n",
              "    border: 2px solid var(--fill-color);\n",
              "    border-color: transparent;\n",
              "    border-bottom-color: var(--fill-color);\n",
              "    animation:\n",
              "      spin 1s steps(1) infinite;\n",
              "  }\n",
              "\n",
              "  @keyframes spin {\n",
              "    0% {\n",
              "      border-color: transparent;\n",
              "      border-bottom-color: var(--fill-color);\n",
              "      border-left-color: var(--fill-color);\n",
              "    }\n",
              "    20% {\n",
              "      border-color: transparent;\n",
              "      border-left-color: var(--fill-color);\n",
              "      border-top-color: var(--fill-color);\n",
              "    }\n",
              "    30% {\n",
              "      border-color: transparent;\n",
              "      border-left-color: var(--fill-color);\n",
              "      border-top-color: var(--fill-color);\n",
              "      border-right-color: var(--fill-color);\n",
              "    }\n",
              "    40% {\n",
              "      border-color: transparent;\n",
              "      border-right-color: var(--fill-color);\n",
              "      border-top-color: var(--fill-color);\n",
              "    }\n",
              "    60% {\n",
              "      border-color: transparent;\n",
              "      border-right-color: var(--fill-color);\n",
              "    }\n",
              "    80% {\n",
              "      border-color: transparent;\n",
              "      border-right-color: var(--fill-color);\n",
              "      border-bottom-color: var(--fill-color);\n",
              "    }\n",
              "    90% {\n",
              "      border-color: transparent;\n",
              "      border-bottom-color: var(--fill-color);\n",
              "    }\n",
              "  }\n",
              "</style>\n",
              "\n",
              "      <script>\n",
              "        async function quickchart(key) {\n",
              "          const quickchartButtonEl =\n",
              "            document.querySelector('#' + key + ' button');\n",
              "          quickchartButtonEl.disabled = true;  // To prevent multiple clicks.\n",
              "          quickchartButtonEl.classList.add('colab-df-spinner');\n",
              "          try {\n",
              "            const charts = await google.colab.kernel.invokeFunction(\n",
              "                'suggestCharts', [key], {});\n",
              "          } catch (error) {\n",
              "            console.error('Error during call to suggestCharts:', error);\n",
              "          }\n",
              "          quickchartButtonEl.classList.remove('colab-df-spinner');\n",
              "          quickchartButtonEl.classList.add('colab-df-quickchart-complete');\n",
              "        }\n",
              "        (() => {\n",
              "          let quickchartButtonEl =\n",
              "            document.querySelector('#df-dd84a655-9daa-4c57-beae-9182780d325f button');\n",
              "          quickchartButtonEl.style.display =\n",
              "            google.colab.kernel.accessAllowed ? 'block' : 'none';\n",
              "        })();\n",
              "      </script>\n",
              "    </div>\n",
              "\n",
              "    </div>\n",
              "  </div>\n"
            ],
            "application/vnd.google.colaboratory.intrinsic+json": {
              "type": "dataframe",
              "summary": "{\n  \"name\": \"data\",\n  \"rows\": 11,\n  \"fields\": [\n    {\n      \"column\": \"Age\",\n      \"properties\": {\n        \"dtype\": \"number\",\n        \"std\": 1395.4758479200066,\n        \"min\": -50.0,\n        \"max\": 4015.0,\n        \"num_unique_values\": 8,\n        \"samples\": [\n          54.10709838107098,\n          54.0,\n          4015.0\n        ],\n        \"semantic_type\": \"\",\n        \"description\": \"\"\n      }\n    },\n    {\n      \"column\": \"Sex\",\n      \"properties\": {\n        \"dtype\": \"category\",\n        \"num_unique_values\": 4,\n        \"samples\": [\n          2,\n          \"4001\",\n          \"4020\"\n        ],\n        \"semantic_type\": \"\",\n        \"description\": \"\"\n      }\n    },\n    {\n      \"column\": \"T_Stage\",\n      \"properties\": {\n        \"dtype\": \"category\",\n        \"num_unique_values\": 4,\n        \"samples\": [\n          4,\n          \"1786\",\n          \"4024\"\n        ],\n        \"semantic_type\": \"\",\n        \"description\": \"\"\n      }\n    },\n    {\n      \"column\": \"N_Stage\",\n      \"properties\": {\n        \"dtype\": \"category\",\n        \"num_unique_values\": 4,\n        \"samples\": [\n          3,\n          \"2732\",\n          \"4024\"\n        ],\n        \"semantic_type\": \"\",\n        \"description\": \"\"\n      }\n    },\n    {\n      \"column\": \"6th_Stage\",\n      \"properties\": {\n        \"dtype\": \"category\",\n        \"num_unique_values\": 4,\n        \"samples\": [\n          5,\n          \"1305\",\n          \"4024\"\n        ],\n        \"semantic_type\": \"\",\n        \"description\": \"\"\n      }\n    },\n    {\n      \"column\": \"Differentiated\",\n      \"properties\": {\n        \"dtype\": \"category\",\n        \"num_unique_values\": 4,\n        \"samples\": [\n          4,\n          \"2351\",\n          \"4024\"\n        ],\n        \"semantic_type\": \"\",\n        \"description\": \"\"\n      }\n    },\n    {\n      \"column\": \"Grade\",\n      \"properties\": {\n        \"dtype\": \"number\",\n        \"std\": 1421.952286244199,\n        \"min\": 0.6382338311415823,\n        \"max\": 4024.0,\n        \"num_unique_values\": 7,\n        \"samples\": [\n          4024.0,\n          2.150596421471173,\n          3.0\n        ],\n        \"semantic_type\": \"\",\n        \"description\": \"\"\n      }\n    },\n    {\n      \"column\": \"A_Stage\",\n      \"properties\": {\n        \"dtype\": \"category\",\n        \"num_unique_values\": 4,\n        \"samples\": [\n          2,\n          \"3932\",\n          \"4024\"\n        ],\n        \"semantic_type\": \"\",\n        \"description\": \"\"\n      }\n    },\n    {\n      \"column\": \"Tumor_Size\",\n      \"properties\": {\n        \"dtype\": \"number\",\n        \"std\": 1412.9462816474029,\n        \"min\": -75.0,\n        \"max\": 4021.0,\n        \"num_unique_values\": 8,\n        \"samples\": [\n          30.41929868191992,\n          25.0,\n          4021.0\n        ],\n        \"semantic_type\": \"\",\n        \"description\": \"\"\n      }\n    },\n    {\n      \"column\": \"Estrogen_Status\",\n      \"properties\": {\n        \"dtype\": \"category\",\n        \"num_unique_values\": 4,\n        \"samples\": [\n          2,\n          \"3755\",\n          \"4024\"\n        ],\n        \"semantic_type\": \"\",\n        \"description\": \"\"\n      }\n    },\n    {\n      \"column\": \"Progesterone_Status\",\n      \"properties\": {\n        \"dtype\": \"category\",\n        \"num_unique_values\": 4,\n        \"samples\": [\n          2,\n          \"3326\",\n          \"4024\"\n        ],\n        \"semantic_type\": \"\",\n        \"description\": \"\"\n      }\n    },\n    {\n      \"column\": \"Regional_Node_Examined\",\n      \"properties\": {\n        \"dtype\": \"number\",\n        \"std\": 1416.074296977853,\n        \"min\": 1.0,\n        \"max\": 4023.0,\n        \"num_unique_values\": 8,\n        \"samples\": [\n          14.373601789709172,\n          14.0,\n          4023.0\n        ],\n        \"semantic_type\": \"\",\n        \"description\": \"\"\n      }\n    },\n    {\n      \"column\": \"Reginol_Node_Positive\",\n      \"properties\": {\n        \"dtype\": \"number\",\n        \"std\": 1419.5333800980586,\n        \"min\": 1.0,\n        \"max\": 4024.0,\n        \"num_unique_values\": 7,\n        \"samples\": [\n          4024.0,\n          4.158051689860835,\n          5.0\n        ],\n        \"semantic_type\": \"\",\n        \"description\": \"\"\n      }\n    },\n    {\n      \"column\": \"Survival_Months\",\n      \"properties\": {\n        \"dtype\": \"number\",\n        \"std\": 1390.795251925918,\n        \"min\": 1.0,\n        \"max\": 4024.0,\n        \"num_unique_values\": 8,\n        \"samples\": [\n          71.47216699801193,\n          73.0,\n          4024.0\n        ],\n        \"semantic_type\": \"\",\n        \"description\": \"\"\n      }\n    },\n    {\n      \"column\": \"Mortality_Status\",\n      \"properties\": {\n        \"dtype\": \"category\",\n        \"num_unique_values\": 4,\n        \"samples\": [\n          7,\n          \"3399\",\n          \"4024\"\n        ],\n        \"semantic_type\": \"\",\n        \"description\": \"\"\n      }\n    }\n  ]\n}"
            }
          },
          "metadata": {},
          "execution_count": 7
        }
      ]
    },
    {
      "cell_type": "code",
      "source": [
        "# Print data to see variables with null values\n",
        "print(data.isnull().sum())"
      ],
      "metadata": {
        "colab": {
          "base_uri": "https://localhost:8080/"
        },
        "id": "pfkyMS8jynKe",
        "outputId": "543a2a36-96e9-4c5c-f6cb-9d259e216a3b"
      },
      "execution_count": 8,
      "outputs": [
        {
          "output_type": "stream",
          "name": "stdout",
          "text": [
            "Age                       9\n",
            "Sex                       4\n",
            "T_Stage                   0\n",
            "N_Stage                   0\n",
            "6th_Stage                 0\n",
            "Differentiated            0\n",
            "Grade                     0\n",
            "A_Stage                   0\n",
            "Tumor_Size                3\n",
            "Estrogen_Status           0\n",
            "Progesterone_Status       0\n",
            "Regional_Node_Examined    1\n",
            "Reginol_Node_Positive     0\n",
            "Survival_Months           0\n",
            "Mortality_Status          0\n",
            "dtype: int64\n"
          ]
        }
      ]
    },
    {
      "cell_type": "code",
      "source": [
        "# Replace the numerical null values with mean\n",
        "numerical_cols = data.select_dtypes(include=['int64', 'float64']).columns\n",
        "imputer = SimpleImputer(strategy='mean')\n",
        "data[numerical_cols] = imputer.fit_transform(data[numerical_cols])\n",
        "# Replace the categorical null values with mode\n",
        "categorical_cols = data.select_dtypes(include=['object']).columns\n",
        "imputer = SimpleImputer(strategy='most_frequent')\n",
        "data[categorical_cols] = imputer.fit_transform(data[categorical_cols])\n",
        "# Print the data again\n",
        "print(data.isnull().sum())"
      ],
      "metadata": {
        "colab": {
          "base_uri": "https://localhost:8080/"
        },
        "id": "mHmH2-0ez4NU",
        "outputId": "48a5e4e9-f56b-4fa3-e1e1-8d8c811b9f17"
      },
      "execution_count": 9,
      "outputs": [
        {
          "output_type": "stream",
          "name": "stdout",
          "text": [
            "Age                       0\n",
            "Sex                       0\n",
            "T_Stage                   0\n",
            "N_Stage                   0\n",
            "6th_Stage                 0\n",
            "Differentiated            0\n",
            "Grade                     0\n",
            "A_Stage                   0\n",
            "Tumor_Size                0\n",
            "Estrogen_Status           0\n",
            "Progesterone_Status       0\n",
            "Regional_Node_Examined    0\n",
            "Reginol_Node_Positive     0\n",
            "Survival_Months           0\n",
            "Mortality_Status          0\n",
            "dtype: int64\n"
          ]
        }
      ]
    },
    {
      "cell_type": "code",
      "source": [
        "# Check if there's any rows with duplicated values\n",
        "print(data.duplicated().sum())"
      ],
      "metadata": {
        "colab": {
          "base_uri": "https://localhost:8080/"
        },
        "id": "y2Zxfa2501Lx",
        "outputId": "d2aa2362-1a4f-4802-9a82-6aa5d2f65ba7"
      },
      "execution_count": 10,
      "outputs": [
        {
          "output_type": "stream",
          "name": "stdout",
          "text": [
            "1\n"
          ]
        }
      ]
    },
    {
      "cell_type": "code",
      "source": [
        "# Drop the duplicates\n",
        "data.drop_duplicates(inplace=True)"
      ],
      "metadata": {
        "id": "yLsNuLDu0_FA"
      },
      "execution_count": 11,
      "outputs": []
    },
    {
      "cell_type": "code",
      "source": [
        "# Check for any duplicates after dropping\n",
        "print(data.duplicated().sum())"
      ],
      "metadata": {
        "colab": {
          "base_uri": "https://localhost:8080/"
        },
        "id": "TIEMvBTT1H34",
        "outputId": "9cac83da-a88f-40da-f691-45d0ebe14330"
      },
      "execution_count": 12,
      "outputs": [
        {
          "output_type": "stream",
          "name": "stdout",
          "text": [
            "0\n"
          ]
        }
      ]
    },
    {
      "cell_type": "code",
      "source": [
        "# Check for any column with negative numerical values\n",
        "for col in numerical_cols:\n",
        "    negative_values = data[data[col] < 0]\n",
        "    if not negative_values.empty:\n",
        "        print(f\"Negative values found in column '{col}':\")\n",
        "        print(negative_values[[col]])\n",
        "        print(\"-\" * 20)"
      ],
      "metadata": {
        "colab": {
          "base_uri": "https://localhost:8080/"
        },
        "id": "7LE0WnRH1OdL",
        "outputId": "32c6f4d5-b649-4efc-f8a8-ebbb51afc659"
      },
      "execution_count": 13,
      "outputs": [
        {
          "output_type": "stream",
          "name": "stdout",
          "text": [
            "Negative values found in column 'Age':\n",
            "      Age\n",
            "212 -50.0\n",
            "--------------------\n",
            "Negative values found in column 'Tumor_Size':\n",
            "     Tumor_Size\n",
            "210       -75.0\n",
            "--------------------\n"
          ]
        }
      ]
    },
    {
      "cell_type": "code",
      "source": [
        "# Replace the negative numerical values with mean of positive numerical values\n",
        "for col in numerical_cols:\n",
        "    positive_values = data[data[col] >= 0][col]\n",
        "    if not positive_values.empty:\n",
        "      mean_positive = positive_values.mean()\n",
        "      data.loc[data[col] < 0, col] = mean_positive"
      ],
      "metadata": {
        "id": "D1HOdyBy1YyI"
      },
      "execution_count": 14,
      "outputs": []
    },
    {
      "cell_type": "code",
      "source": [
        "# Check again for negative values\n",
        "for col in numerical_cols:\n",
        "    negative_values = data[data[col] < 0]\n",
        "    if negative_values.empty:\n",
        "        print(f\"No negative values found in column '{col}'\")\n",
        "    else:\n",
        "        print(f\"Negative values found in column '{col}':\")\n",
        "        print(negative_values[[col]])\n",
        "        print(\"-\" * 20)"
      ],
      "metadata": {
        "colab": {
          "base_uri": "https://localhost:8080/"
        },
        "id": "bGV4TZfd3FG4",
        "outputId": "467b8852-0905-4360-d65b-1afe6f06cb36"
      },
      "execution_count": 15,
      "outputs": [
        {
          "output_type": "stream",
          "name": "stdout",
          "text": [
            "No negative values found in column 'Age'\n",
            "No negative values found in column 'Grade'\n",
            "No negative values found in column 'Tumor_Size'\n",
            "No negative values found in column 'Regional_Node_Examined'\n",
            "No negative values found in column 'Reginol_Node_Positive'\n",
            "No negative values found in column 'Survival_Months'\n"
          ]
        }
      ]
    },
    {
      "cell_type": "code",
      "source": [
        "# Use df\n",
        "df=data"
      ],
      "metadata": {
        "id": "xTePjw453PfV"
      },
      "execution_count": 16,
      "outputs": []
    },
    {
      "cell_type": "code",
      "source": [
        "# Describe the data\n",
        "print(df.describe())"
      ],
      "metadata": {
        "colab": {
          "base_uri": "https://localhost:8080/"
        },
        "id": "mIGObMsn3Z4U",
        "outputId": "f680623d-0245-493c-cf38-0002cee3458e"
      },
      "execution_count": 17,
      "outputs": [
        {
          "output_type": "stream",
          "name": "stdout",
          "text": [
            "               Age        Grade   Tumor_Size  Regional_Node_Examined  \\\n",
            "count  4023.000000  4023.000000  4023.000000             4023.000000   \n",
            "mean     54.130772     2.150634    30.448846               14.374938   \n",
            "std      11.587304     0.638309    21.089331                8.128851   \n",
            "min      30.000000     1.000000     1.000000                1.000000   \n",
            "25%      47.000000     2.000000    16.000000                9.000000   \n",
            "50%      54.000000     2.000000    25.000000               14.000000   \n",
            "75%      61.000000     3.000000    38.000000               19.000000   \n",
            "max     502.000000     4.000000   140.000000               61.000000   \n",
            "\n",
            "       Reginol_Node_Positive  Survival_Months  \n",
            "count            4023.000000      4023.000000  \n",
            "mean                4.158837        71.476013  \n",
            "std                 5.109724        25.363834  \n",
            "min                 1.000000         1.000000  \n",
            "25%                 1.000000        56.000000  \n",
            "50%                 2.000000        73.000000  \n",
            "75%                 5.000000        90.000000  \n",
            "max                46.000000       760.000000  \n"
          ]
        }
      ]
    },
    {
      "cell_type": "code",
      "source": [
        "# Shape of the dataset\n",
        "print(df.shape)"
      ],
      "metadata": {
        "colab": {
          "base_uri": "https://localhost:8080/"
        },
        "id": "JtAPckbB3hmA",
        "outputId": "d00cd143-c420-4b7d-e38e-6a611c3df476"
      },
      "execution_count": 18,
      "outputs": [
        {
          "output_type": "stream",
          "name": "stdout",
          "text": [
            "(4023, 15)\n"
          ]
        }
      ]
    },
    {
      "cell_type": "code",
      "source": [
        "# Retained feature's names\n",
        "df.columns"
      ],
      "metadata": {
        "colab": {
          "base_uri": "https://localhost:8080/"
        },
        "id": "r04ltLro3oDB",
        "outputId": "5f36ff62-7d37-4bc7-9362-4774b71fb5b5"
      },
      "execution_count": 19,
      "outputs": [
        {
          "output_type": "execute_result",
          "data": {
            "text/plain": [
              "Index(['Age', 'Sex', 'T_Stage', 'N_Stage', '6th_Stage', 'Differentiated',\n",
              "       'Grade', 'A_Stage', 'Tumor_Size', 'Estrogen_Status',\n",
              "       'Progesterone_Status', 'Regional_Node_Examined',\n",
              "       'Reginol_Node_Positive', 'Survival_Months', 'Mortality_Status'],\n",
              "      dtype='object')"
            ]
          },
          "metadata": {},
          "execution_count": 19
        }
      ]
    },
    {
      "cell_type": "code",
      "source": [
        "# Use wisker function to calculate upper and lower bounds for detecting outliers using Interquartile Range (IQR)\n",
        "def wisker(col):\n",
        "  q1,q3=np.percentile(col,[25,75])\n",
        "  iqr=q3-q1\n",
        "  upper_bound=q3+(1.5*iqr)\n",
        "  lower_bound=q1-(1.5*iqr)\n",
        "  return upper_bound,lower_bound"
      ],
      "metadata": {
        "id": "HWIWFTJy3xug"
      },
      "execution_count": 20,
      "outputs": []
    },
    {
      "cell_type": "code",
      "source": [
        "# Remove rows with missing values\n",
        "df.dropna(inplace=True)"
      ],
      "metadata": {
        "id": "VHb55LtC5oqj"
      },
      "execution_count": 21,
      "outputs": []
    },
    {
      "cell_type": "code",
      "source": [
        "# Print the upper and lower bounds for outliers in the 'Tumor_Size' column\n",
        "wisker(df['Tumor_Size'])"
      ],
      "metadata": {
        "colab": {
          "base_uri": "https://localhost:8080/"
        },
        "id": "1K3puWAS50Gi",
        "outputId": "60df1448-225a-4deb-d2c8-fb010093b40e"
      },
      "execution_count": 22,
      "outputs": [
        {
          "output_type": "execute_result",
          "data": {
            "text/plain": [
              "(np.float64(71.0), np.float64(-17.0))"
            ]
          },
          "metadata": {},
          "execution_count": 22
        }
      ]
    },
    {
      "cell_type": "code",
      "source": [
        "# Calculate upper and lower bound values for each column and replace outliers with them\n",
        "for i in ['Tumor_Size','Age','Regional_Node_Examined','Reginol_Node_Positive','Survival_Months']:\n",
        "  upper_bound,lower_bound=wisker(df[i])\n",
        "  df[i]=np.where(df[i]>upper_bound,upper_bound,df[i])\n",
        "  df[i]=np.where(df[i]<lower_bound,lower_bound,df[i])"
      ],
      "metadata": {
        "id": "_K8UMGUF6Ci-"
      },
      "execution_count": 23,
      "outputs": []
    },
    {
      "cell_type": "code",
      "source": [
        "# Display box plots to visualize outlier removal\n",
        "import seaborn as sns\n",
        "import matplotlib.pyplot as plt\n",
        "for i in ['Tumor_Size','Age','Regional_Node_Examined','Reginol_Node_Positive','Survival_Months']:\n",
        "  sns.boxplot(df[i])\n",
        "  plt.show()"
      ],
      "metadata": {
        "colab": {
          "base_uri": "https://localhost:8080/",
          "height": 1000
        },
        "id": "acdrLcmO68qT",
        "outputId": "040c6293-335b-4925-9484-a54b9784c612"
      },
      "execution_count": 24,
      "outputs": [
        {
          "output_type": "display_data",
          "data": {
            "text/plain": [
              "<Figure size 640x480 with 1 Axes>"
            ],
            "image/png": "[encoded data removed]"
          },
          "metadata": {}
        },
        {
          "output_type": "display_data",
          "data": {
            "text/plain": [
              "<Figure size 640x480 with 1 Axes>"
            ],
            "image/png": "[encoded data removed]"
          },
          "metadata": {}
        },
        {
          "output_type": "display_data",
          "data": {
            "text/plain": [
              "<Figure size 640x480 with 1 Axes>"
            ],
            "image/png": "[encoded data removed]"
          },
          "metadata": {}
        },
        {
          "output_type": "display_data",
          "data": {
            "text/plain": [
              "<Figure size 640x480 with 1 Axes>"
            ],
            "image/png": "[encoded data removed]"
          },
          "metadata": {}
        },
        {
          "output_type": "display_data",
          "data": {
            "text/plain": [
              "<Figure size 640x480 with 1 Axes>"
            ],
            "image/png": "[encoded data removed]"
          },
          "metadata": {}
        }
      ]
    },
    {
      "cell_type": "code",
      "source": [
        "df.isnull().sum()"
      ],
      "metadata": {
        "colab": {
          "base_uri": "https://localhost:8080/",
          "height": 554
        },
        "id": "1gGqCVko7oZF",
        "outputId": "b6b7271a-df68-4572-ac30-877302092325"
      },
      "execution_count": 25,
      "outputs": [
        {
          "output_type": "execute_result",
          "data": {
            "text/plain": [
              "Age                       0\n",
              "Sex                       0\n",
              "T_Stage                   0\n",
              "N_Stage                   0\n",
              "6th_Stage                 0\n",
              "Differentiated            0\n",
              "Grade                     0\n",
              "A_Stage                   0\n",
              "Tumor_Size                0\n",
              "Estrogen_Status           0\n",
              "Progesterone_Status       0\n",
              "Regional_Node_Examined    0\n",
              "Reginol_Node_Positive     0\n",
              "Survival_Months           0\n",
              "Mortality_Status          0\n",
              "dtype: int64"
            ],
            "text/html": [
              "<div>\n",
              "<style scoped>\n",
              "    .dataframe tbody tr th:only-of-type {\n",
              "        vertical-align: middle;\n",
              "    }\n",
              "\n",
              "    .dataframe tbody tr th {\n",
              "        vertical-align: top;\n",
              "    }\n",
              "\n",
              "    .dataframe thead th {\n",
              "        text-align: right;\n",
              "    }\n",
              "</style>\n",
              "<table border=\"1\" class=\"dataframe\">\n",
              "  <thead>\n",
              "    <tr style=\"text-align: right;\">\n",
              "      <th></th>\n",
              "      <th>0</th>\n",
              "    </tr>\n",
              "  </thead>\n",
              "  <tbody>\n",
              "    <tr>\n",
              "      <th>Age</th>\n",
              "      <td>0</td>\n",
              "    </tr>\n",
              "    <tr>\n",
              "      <th>Sex</th>\n",
              "      <td>0</td>\n",
              "    </tr>\n",
              "    <tr>\n",
              "      <th>T_Stage</th>\n",
              "      <td>0</td>\n",
              "    </tr>\n",
              "    <tr>\n",
              "      <th>N_Stage</th>\n",
              "      <td>0</td>\n",
              "    </tr>\n",
              "    <tr>\n",
              "      <th>6th_Stage</th>\n",
              "      <td>0</td>\n",
              "    </tr>\n",
              "    <tr>\n",
              "      <th>Differentiated</th>\n",
              "      <td>0</td>\n",
              "    </tr>\n",
              "    <tr>\n",
              "      <th>Grade</th>\n",
              "      <td>0</td>\n",
              "    </tr>\n",
              "    <tr>\n",
              "      <th>A_Stage</th>\n",
              "      <td>0</td>\n",
              "    </tr>\n",
              "    <tr>\n",
              "      <th>Tumor_Size</th>\n",
              "      <td>0</td>\n",
              "    </tr>\n",
              "    <tr>\n",
              "      <th>Estrogen_Status</th>\n",
              "      <td>0</td>\n",
              "    </tr>\n",
              "    <tr>\n",
              "      <th>Progesterone_Status</th>\n",
              "      <td>0</td>\n",
              "    </tr>\n",
              "    <tr>\n",
              "      <th>Regional_Node_Examined</th>\n",
              "      <td>0</td>\n",
              "    </tr>\n",
              "    <tr>\n",
              "      <th>Reginol_Node_Positive</th>\n",
              "      <td>0</td>\n",
              "    </tr>\n",
              "    <tr>\n",
              "      <th>Survival_Months</th>\n",
              "      <td>0</td>\n",
              "    </tr>\n",
              "    <tr>\n",
              "      <th>Mortality_Status</th>\n",
              "      <td>0</td>\n",
              "    </tr>\n",
              "  </tbody>\n",
              "</table>\n",
              "</div><br><label><b>dtype:</b> int64</label>"
            ]
          },
          "metadata": {},
          "execution_count": 25
        }
      ]
    },
    {
      "cell_type": "code",
      "source": [
        "print(df.dtypes)"
      ],
      "metadata": {
        "colab": {
          "base_uri": "https://localhost:8080/"
        },
        "id": "PmHTaN_Y7uTb",
        "outputId": "58ca65e3-2e1d-4568-d460-968a78240a1a"
      },
      "execution_count": 26,
      "outputs": [
        {
          "output_type": "stream",
          "name": "stdout",
          "text": [
            "Age                       float64\n",
            "Sex                        object\n",
            "T_Stage                    object\n",
            "N_Stage                    object\n",
            "6th_Stage                  object\n",
            "Differentiated             object\n",
            "Grade                     float64\n",
            "A_Stage                    object\n",
            "Tumor_Size                float64\n",
            "Estrogen_Status            object\n",
            "Progesterone_Status        object\n",
            "Regional_Node_Examined    float64\n",
            "Reginol_Node_Positive     float64\n",
            "Survival_Months           float64\n",
            "Mortality_Status           object\n",
            "dtype: object\n"
          ]
        }
      ]
    },
    {
      "cell_type": "code",
      "source": [
        "# Value counts in dataset\n",
        "for col in df.select_dtypes(include=['object']).columns:\n",
        "    print(df[col].value_counts())"
      ],
      "metadata": {
        "colab": {
          "base_uri": "https://localhost:8080/"
        },
        "id": "wnlntggS7yR1",
        "outputId": "0a8445fb-b6f2-497d-d15f-2d328b72c4d4"
      },
      "execution_count": 27,
      "outputs": [
        {
          "output_type": "stream",
          "name": "stdout",
          "text": [
            "Sex\n",
            "Female    4004\n",
            "1           19\n",
            "Name: count, dtype: int64\n",
            "T_Stage\n",
            "T2    1786\n",
            "T1    1602\n",
            "T3     533\n",
            "T4     102\n",
            "Name: count, dtype: int64\n",
            "N_Stage\n",
            "N1    2731\n",
            "N2     820\n",
            "N3     472\n",
            "Name: count, dtype: int64\n",
            "6th_Stage\n",
            "IIA     1304\n",
            "IIB     1130\n",
            "IIIA    1050\n",
            "IIIC     472\n",
            "IIIB      67\n",
            "Name: count, dtype: int64\n",
            "Differentiated\n",
            "Moderately differentiated    2350\n",
            "Poorly differentiated        1111\n",
            "Well differentiated           543\n",
            "Undifferentiated               19\n",
            "Name: count, dtype: int64\n",
            "A_Stage\n",
            "Regional    3931\n",
            "Distant       92\n",
            "Name: count, dtype: int64\n",
            "Estrogen_Status\n",
            "Positive    3754\n",
            "Negative     269\n",
            "Name: count, dtype: int64\n",
            "Progesterone_Status\n",
            "Positive    3325\n",
            "Negative     698\n",
            "Name: count, dtype: int64\n",
            "Mortality_Status\n",
            "Alive    3398\n",
            "Dead      598\n",
            "DEAD       10\n",
            "dead        8\n",
            "ALIVE       5\n",
            "alive       3\n",
            "ALive       1\n",
            "Name: count, dtype: int64\n"
          ]
        }
      ]
    },
    {
      "cell_type": "code",
      "source": [
        "# Describe dataset\n",
        "print(df.describe())"
      ],
      "metadata": {
        "colab": {
          "base_uri": "https://localhost:8080/"
        },
        "id": "qvg0YDX08QnW",
        "outputId": "ea158b4f-039a-492b-d3ad-5a1c2020a75b"
      },
      "execution_count": 28,
      "outputs": [
        {
          "output_type": "stream",
          "name": "stdout",
          "text": [
            "               Age        Grade   Tumor_Size  Regional_Node_Examined  \\\n",
            "count  4023.000000  4023.000000  4023.000000             4023.000000   \n",
            "mean     54.000272     2.150634    29.329283               14.239466   \n",
            "std       8.984103     0.638309    17.736951                7.677851   \n",
            "min      30.000000     1.000000     1.000000                1.000000   \n",
            "25%      47.000000     2.000000    16.000000                9.000000   \n",
            "50%      54.000000     2.000000    25.000000               14.000000   \n",
            "75%      61.000000     3.000000    38.000000               19.000000   \n",
            "max      82.000000     4.000000    71.000000               34.000000   \n",
            "\n",
            "       Reginol_Node_Positive  Survival_Months  \n",
            "count            4023.000000      4023.000000  \n",
            "mean                3.568481        71.329853  \n",
            "std                 3.281311        22.925849  \n",
            "min                 1.000000         5.000000  \n",
            "25%                 1.000000        56.000000  \n",
            "50%                 2.000000        73.000000  \n",
            "75%                 5.000000        90.000000  \n",
            "max                11.000000       141.000000  \n"
          ]
        }
      ]
    },
    {
      "cell_type": "code",
      "source": [
        "# Handles invalid Tumor sizes like negative values treating them as missing values\n",
        "df['Tumor_Size'] = df['Tumor_Size'].apply(lambda x: x if x >= 0 else None)"
      ],
      "metadata": {
        "id": "PC1PlKDc8lhG"
      },
      "execution_count": 29,
      "outputs": []
    },
    {
      "cell_type": "code",
      "source": [
        "for i in [\"Age\",\"Tumor_Size\",\"Regional_Node_Examined\"]:\n",
        "  df[i].fillna(df[i].median())"
      ],
      "metadata": {
        "id": "WP0A2JJB9DWI"
      },
      "execution_count": 30,
      "outputs": []
    },
    {
      "cell_type": "code",
      "source": [
        "# Replaces missing NaN values with mode of \"sex\" column\n",
        "df['Sex'].fillna(df['Sex'].mode()[0])"
      ],
      "metadata": {
        "colab": {
          "base_uri": "https://localhost:8080/",
          "height": 458
        },
        "id": "YRVHH7q89XMO",
        "outputId": "9e8726c5-4583-44da-8d53-ec038a3d5f6d"
      },
      "execution_count": 31,
      "outputs": [
        {
          "output_type": "execute_result",
          "data": {
            "text/plain": [
              "0       Female\n",
              "1       Female\n",
              "2       Female\n",
              "3       Female\n",
              "4       Female\n",
              "         ...  \n",
              "4019    Female\n",
              "4020    Female\n",
              "4021         1\n",
              "4022    Female\n",
              "4023    Female\n",
              "Name: Sex, Length: 4023, dtype: object"
            ],
            "text/html": [
              "<div>\n",
              "<style scoped>\n",
              "    .dataframe tbody tr th:only-of-type {\n",
              "        vertical-align: middle;\n",
              "    }\n",
              "\n",
              "    .dataframe tbody tr th {\n",
              "        vertical-align: top;\n",
              "    }\n",
              "\n",
              "    .dataframe thead th {\n",
              "        text-align: right;\n",
              "    }\n",
              "</style>\n",
              "<table border=\"1\" class=\"dataframe\">\n",
              "  <thead>\n",
              "    <tr style=\"text-align: right;\">\n",
              "      <th></th>\n",
              "      <th>Sex</th>\n",
              "    </tr>\n",
              "  </thead>\n",
              "  <tbody>\n",
              "    <tr>\n",
              "      <th>0</th>\n",
              "      <td>Female</td>\n",
              "    </tr>\n",
              "    <tr>\n",
              "      <th>1</th>\n",
              "      <td>Female</td>\n",
              "    </tr>\n",
              "    <tr>\n",
              "      <th>2</th>\n",
              "      <td>Female</td>\n",
              "    </tr>\n",
              "    <tr>\n",
              "      <th>3</th>\n",
              "      <td>Female</td>\n",
              "    </tr>\n",
              "    <tr>\n",
              "      <th>4</th>\n",
              "      <td>Female</td>\n",
              "    </tr>\n",
              "    <tr>\n",
              "      <th>...</th>\n",
              "      <td>...</td>\n",
              "    </tr>\n",
              "    <tr>\n",
              "      <th>4019</th>\n",
              "      <td>Female</td>\n",
              "    </tr>\n",
              "    <tr>\n",
              "      <th>4020</th>\n",
              "      <td>Female</td>\n",
              "    </tr>\n",
              "    <tr>\n",
              "      <th>4021</th>\n",
              "      <td>1</td>\n",
              "    </tr>\n",
              "    <tr>\n",
              "      <th>4022</th>\n",
              "      <td>Female</td>\n",
              "    </tr>\n",
              "    <tr>\n",
              "      <th>4023</th>\n",
              "      <td>Female</td>\n",
              "    </tr>\n",
              "  </tbody>\n",
              "</table>\n",
              "<p>4023 rows × 1 columns</p>\n",
              "</div><br><label><b>dtype:</b> object</label>"
            ]
          },
          "metadata": {},
          "execution_count": 31
        }
      ]
    },
    {
      "cell_type": "code",
      "source": [
        "# Fills all missing values with 0\n",
        "df.fillna(0, inplace=True)"
      ],
      "metadata": {
        "id": "3tQuZkg-91SW"
      },
      "execution_count": 32,
      "outputs": []
    },
    {
      "cell_type": "code",
      "source": [
        "# Convert the data type of Grade and Sex into category data type\n",
        "df['Grade'] = df['Grade'].astype('category')\n",
        "df['Sex'] = df['Sex'].astype('category')"
      ],
      "metadata": {
        "id": "gHsagWUH-SaP"
      },
      "execution_count": 33,
      "outputs": []
    },
    {
      "cell_type": "code",
      "source": [
        "print(df.describe())"
      ],
      "metadata": {
        "colab": {
          "base_uri": "https://localhost:8080/"
        },
        "id": "DnrDJlr3-xTe",
        "outputId": "59e6cfe9-3e58-46d1-e7b0-b39d93bed37d"
      },
      "execution_count": 34,
      "outputs": [
        {
          "output_type": "stream",
          "name": "stdout",
          "text": [
            "               Age   Tumor_Size  Regional_Node_Examined  \\\n",
            "count  4023.000000  4023.000000             4023.000000   \n",
            "mean     54.000272    29.329283               14.239466   \n",
            "std       8.984103    17.736951                7.677851   \n",
            "min      30.000000     1.000000                1.000000   \n",
            "25%      47.000000    16.000000                9.000000   \n",
            "50%      54.000000    25.000000               14.000000   \n",
            "75%      61.000000    38.000000               19.000000   \n",
            "max      82.000000    71.000000               34.000000   \n",
            "\n",
            "       Reginol_Node_Positive  Survival_Months  \n",
            "count            4023.000000      4023.000000  \n",
            "mean                3.568481        71.329853  \n",
            "std                 3.281311        22.925849  \n",
            "min                 1.000000         5.000000  \n",
            "25%                 1.000000        56.000000  \n",
            "50%                 2.000000        73.000000  \n",
            "75%                 5.000000        90.000000  \n",
            "max                11.000000       141.000000  \n"
          ]
        }
      ]
    },
    {
      "cell_type": "code",
      "source": [
        "# Detects outliers in \"Survival_Months\" using IQR method with lower and upper bounds\n",
        "Q1 = df['Survival_Months'].quantile(0.25)\n",
        "Q3 = df['Survival_Months'].quantile(0.75)\n",
        "IQR = Q3 - Q1\n",
        "lower_bound = Q1 - 1.5 * IQR\n",
        "upper_bound = Q3 + 1.5 * IQR"
      ],
      "metadata": {
        "id": "gA-mNo9j-z7m"
      },
      "execution_count": 35,
      "outputs": []
    },
    {
      "cell_type": "code",
      "source": [
        "df = df[(df['Survival_Months'] >= lower_bound) & (df['Survival_Months'] <= upper_bound)]"
      ],
      "metadata": {
        "id": "yOJYo7gZ_vNQ"
      },
      "execution_count": 36,
      "outputs": []
    },
    {
      "cell_type": "code",
      "source": [
        "for i in ['Tumor_Size','Age','Regional_Node_Examined','Reginol_Node_Positive','Survival_Months']:\n",
        "  sns.boxplot(df[i])\n",
        "  plt.show()"
      ],
      "metadata": {
        "colab": {
          "base_uri": "https://localhost:8080/",
          "height": 1000
        },
        "id": "TSYPTU95_zKi",
        "outputId": "2c40122f-ea8b-44fa-9cbc-1b533b3b864a"
      },
      "execution_count": 37,
      "outputs": [
        {
          "output_type": "display_data",
          "data": {
            "text/plain": [
              "<Figure size 640x480 with 1 Axes>"
            ],
            "image/png": "[encoded data removed]"
          },
          "metadata": {}
        },
        {
          "output_type": "display_data",
          "data": {
            "text/plain": [
              "<Figure size 640x480 with 1 Axes>"
            ],
            "image/png": "[encoded data removed]"
          },
          "metadata": {}
        },
        {
          "output_type": "display_data",
          "data": {
            "text/plain": [
              "<Figure size 640x480 with 1 Axes>"
            ],
            "image/png": "[encoded data removed]"
          },
          "metadata": {}
        },
        {
          "output_type": "display_data",
          "data": {
            "text/plain": [
              "<Figure size 640x480 with 1 Axes>"
            ],
            "image/png": "[encoded data removed]"
          },
          "metadata": {}
        },
        {
          "output_type": "display_data",
          "data": {
            "text/plain": [
              "<Figure size 640x480 with 1 Axes>"
            ],
            "image/png": "[encoded data removed]"
          },
          "metadata": {}
        }
      ]
    },
    {
      "cell_type": "code",
      "source": [
        "print(df.isna().sum())"
      ],
      "metadata": {
        "colab": {
          "base_uri": "https://localhost:8080/"
        },
        "id": "I0kHHGn3_2qj",
        "outputId": "7975f9d9-2317-4fc5-c889-b9415a66317a"
      },
      "execution_count": 38,
      "outputs": [
        {
          "output_type": "stream",
          "name": "stdout",
          "text": [
            "Age                       0\n",
            "Sex                       0\n",
            "T_Stage                   0\n",
            "N_Stage                   0\n",
            "6th_Stage                 0\n",
            "Differentiated            0\n",
            "Grade                     0\n",
            "A_Stage                   0\n",
            "Tumor_Size                0\n",
            "Estrogen_Status           0\n",
            "Progesterone_Status       0\n",
            "Regional_Node_Examined    0\n",
            "Reginol_Node_Positive     0\n",
            "Survival_Months           0\n",
            "Mortality_Status          0\n",
            "dtype: int64\n"
          ]
        }
      ]
    },
    {
      "cell_type": "code",
      "source": [
        "print((df[['Tumor_Size', 'Age', 'Regional_Node_Examined', 'Survival_Months']] < 0).sum())"
      ],
      "metadata": {
        "colab": {
          "base_uri": "https://localhost:8080/"
        },
        "id": "st67mxPR_3Wh",
        "outputId": "1dad57c2-e06f-4995-bf59-02470865669d"
      },
      "execution_count": 39,
      "outputs": [
        {
          "output_type": "stream",
          "name": "stdout",
          "text": [
            "Tumor_Size                0\n",
            "Age                       0\n",
            "Regional_Node_Examined    0\n",
            "Survival_Months           0\n",
            "dtype: int64\n"
          ]
        }
      ]
    },
    {
      "cell_type": "code",
      "source": [
        "Q1 = df[['Age', 'Tumor_Size', 'Regional_Node_Examined', 'Survival_Months']].quantile(0.25)\n",
        "Q3 = df[['Age', 'Tumor_Size', 'Regional_Node_Examined', 'Survival_Months']].quantile(0.75)\n",
        "IQR = Q3 - Q1\n",
        "\n",
        "outliers = ((df[['Age', 'Tumor_Size', 'Regional_Node_Examined', 'Survival_Months']] < (Q1 - 1.5 * IQR)) |\n",
        "            (df[['Age', 'Tumor_Size', 'Regional_Node_Examined', 'Survival_Months']] > (Q3 + 1.5 * IQR)))\n",
        "\n",
        "print(outliers.sum())"
      ],
      "metadata": {
        "colab": {
          "base_uri": "https://localhost:8080/"
        },
        "id": "_lph6V01_9AS",
        "outputId": "921deb86-a049-40b3-d930-dd04acd3a4e9"
      },
      "execution_count": 40,
      "outputs": [
        {
          "output_type": "stream",
          "name": "stdout",
          "text": [
            "Age                       0\n",
            "Tumor_Size                0\n",
            "Regional_Node_Examined    0\n",
            "Survival_Months           0\n",
            "dtype: int64\n"
          ]
        }
      ]
    },
    {
      "cell_type": "code",
      "source": [
        "print(df['Grade'].isna().sum())"
      ],
      "metadata": {
        "colab": {
          "base_uri": "https://localhost:8080/"
        },
        "id": "mO71rWRsABDS",
        "outputId": "0284d28a-9289-44ac-be27-7ab030124fa4"
      },
      "execution_count": 41,
      "outputs": [
        {
          "output_type": "stream",
          "name": "stdout",
          "text": [
            "0\n"
          ]
        }
      ]
    },
    {
      "cell_type": "code",
      "source": [
        "df['Grade'] = df['Grade'].astype(int)"
      ],
      "metadata": {
        "id": "QeVwKuWjABsz"
      },
      "execution_count": 42,
      "outputs": []
    },
    {
      "cell_type": "code",
      "source": [
        "print(df.describe())"
      ],
      "metadata": {
        "colab": {
          "base_uri": "https://localhost:8080/"
        },
        "id": "_0lKA66MAEvg",
        "outputId": "b58ce34a-6ad9-4f18-88f7-07704890bf41"
      },
      "execution_count": 43,
      "outputs": [
        {
          "output_type": "stream",
          "name": "stdout",
          "text": [
            "               Age        Grade   Tumor_Size  Regional_Node_Examined  \\\n",
            "count  4023.000000  4023.000000  4023.000000             4023.000000   \n",
            "mean     54.000272     2.150634    29.329283               14.239466   \n",
            "std       8.984103     0.638309    17.736951                7.677851   \n",
            "min      30.000000     1.000000     1.000000                1.000000   \n",
            "25%      47.000000     2.000000    16.000000                9.000000   \n",
            "50%      54.000000     2.000000    25.000000               14.000000   \n",
            "75%      61.000000     3.000000    38.000000               19.000000   \n",
            "max      82.000000     4.000000    71.000000               34.000000   \n",
            "\n",
            "       Reginol_Node_Positive  Survival_Months  \n",
            "count            4023.000000      4023.000000  \n",
            "mean                3.568481        71.329853  \n",
            "std                 3.281311        22.925849  \n",
            "min                 1.000000         5.000000  \n",
            "25%                 1.000000        56.000000  \n",
            "50%                 2.000000        73.000000  \n",
            "75%                 5.000000        90.000000  \n",
            "max                11.000000       141.000000  \n"
          ]
        }
      ]
    },
    {
      "cell_type": "code",
      "source": [
        "print((df[['Age', 'Tumor_Size', 'Regional_Node_Examined', 'Reginol_Node_Positive', 'Survival_Months']] < 0).sum())\n",
        "\n",
        "print(df['Sex'].unique())\n",
        "print(df['Mortality_Status'].unique())"
      ],
      "metadata": {
        "colab": {
          "base_uri": "https://localhost:8080/"
        },
        "id": "57tD2uTNAIrz",
        "outputId": "4e7e018d-c620-47a4-bdb8-5c5c8c9c4167"
      },
      "execution_count": 44,
      "outputs": [
        {
          "output_type": "stream",
          "name": "stdout",
          "text": [
            "Age                       0\n",
            "Tumor_Size                0\n",
            "Regional_Node_Examined    0\n",
            "Reginol_Node_Positive     0\n",
            "Survival_Months           0\n",
            "dtype: int64\n",
            "['Female', '1']\n",
            "Categories (2, object): ['1', 'Female']\n",
            "['Alive' 'Dead' 'ALIVE' 'DEAD' 'ALive' 'alive' 'dead']\n"
          ]
        }
      ]
    },
    {
      "cell_type": "code",
      "source": [
        "print(df[['Age', 'Tumor_Size', 'Regional_Node_Examined', 'Reginol_Node_Positive', 'Survival_Months']].describe())"
      ],
      "metadata": {
        "colab": {
          "base_uri": "https://localhost:8080/"
        },
        "id": "6U4eZVOeAJTV",
        "outputId": "8da3ffd5-93a2-481d-d855-eced01e40252"
      },
      "execution_count": 45,
      "outputs": [
        {
          "output_type": "stream",
          "name": "stdout",
          "text": [
            "               Age   Tumor_Size  Regional_Node_Examined  \\\n",
            "count  4023.000000  4023.000000             4023.000000   \n",
            "mean     54.000272    29.329283               14.239466   \n",
            "std       8.984103    17.736951                7.677851   \n",
            "min      30.000000     1.000000                1.000000   \n",
            "25%      47.000000    16.000000                9.000000   \n",
            "50%      54.000000    25.000000               14.000000   \n",
            "75%      61.000000    38.000000               19.000000   \n",
            "max      82.000000    71.000000               34.000000   \n",
            "\n",
            "       Reginol_Node_Positive  Survival_Months  \n",
            "count            4023.000000      4023.000000  \n",
            "mean                3.568481        71.329853  \n",
            "std                 3.281311        22.925849  \n",
            "min                 1.000000         5.000000  \n",
            "25%                 1.000000        56.000000  \n",
            "50%                 2.000000        73.000000  \n",
            "75%                 5.000000        90.000000  \n",
            "max                11.000000       141.000000  \n"
          ]
        }
      ]
    },
    {
      "cell_type": "code",
      "source": [
        "print(df['Sex'].value_counts())\n",
        "print(df['Mortality_Status'].value_counts())"
      ],
      "metadata": {
        "colab": {
          "base_uri": "https://localhost:8080/"
        },
        "id": "Vadgb9I5AMVM",
        "outputId": "c07a229a-cd5b-4569-cf79-0b7c90a29d49"
      },
      "execution_count": 46,
      "outputs": [
        {
          "output_type": "stream",
          "name": "stdout",
          "text": [
            "Sex\n",
            "Female    4004\n",
            "1           19\n",
            "Name: count, dtype: int64\n",
            "Mortality_Status\n",
            "Alive    3398\n",
            "Dead      598\n",
            "DEAD       10\n",
            "dead        8\n",
            "ALIVE       5\n",
            "alive       3\n",
            "ALive       1\n",
            "Name: count, dtype: int64\n"
          ]
        }
      ]
    },
    {
      "cell_type": "code",
      "source": [
        "df['Sex'] = df['Sex'].replace({'1': 'Male'})"
      ],
      "metadata": {
        "colab": {
          "base_uri": "https://localhost:8080/"
        },
        "id": "osEV9CMWAPD3",
        "outputId": "c9896957-6316-43af-bfba-559a2d0d2a61"
      },
      "execution_count": 47,
      "outputs": [
        {
          "output_type": "stream",
          "name": "stderr",
          "text": [
            "<ipython-input-47-6b0ddb0453ed>:1: FutureWarning: The behavior of Series.replace (and DataFrame.replace) with CategoricalDtype is deprecated. In a future version, replace will only be used for cases that preserve the categories. To change the categories, use ser.cat.rename_categories instead.\n",
            "  df['Sex'] = df['Sex'].replace({'1': 'Male'})\n"
          ]
        }
      ]
    },
    {
      "cell_type": "code",
      "source": [
        "df['Mortality_Status'] = df['Mortality_Status'].str.capitalize()  # Capitalize first letter\n",
        "df['Mortality_Status'] = df['Mortality_Status'].replace({\n",
        "    'Alive': 'Alive',\n",
        "    'Dead': 'Dead',\n",
        "    'ALIVE': 'Alive',\n",
        "    'DEAD': 'Dead',\n",
        "    'ALive': 'Alive',\n",
        "    'alive': 'Alive',\n",
        "    'dead': 'Dead'\n",
        "})"
      ],
      "metadata": {
        "id": "qjPcfH1yAQlD"
      },
      "execution_count": 48,
      "outputs": []
    },
    {
      "cell_type": "code",
      "source": [
        "print(df['Sex'].unique())\n",
        "print(df['Mortality_Status'].unique())"
      ],
      "metadata": {
        "colab": {
          "base_uri": "https://localhost:8080/"
        },
        "id": "x3BRgLONASWA",
        "outputId": "c96e07cc-7ffc-4c8e-9f94-f0ed2793b63a"
      },
      "execution_count": 49,
      "outputs": [
        {
          "output_type": "stream",
          "name": "stdout",
          "text": [
            "['Female', 'Male']\n",
            "Categories (2, object): ['Male', 'Female']\n",
            "['Alive' 'Dead']\n"
          ]
        }
      ]
    },
    {
      "cell_type": "code",
      "source": [
        "corr_matrix = df[numerical_cols].corr()\n",
        "plt.figure(figsize=(10, 8))\n",
        "sns.heatmap(corr_matrix, annot=True, cmap='coolwarm')\n",
        "plt.title('Correlation Matrix')\n",
        "plt.show()"
      ],
      "metadata": {
        "colab": {
          "base_uri": "https://localhost:8080/",
          "height": 864
        },
        "id": "rHFpaAToAS7p",
        "outputId": "2d3113b5-0986-46ba-8d2b-1787c1375486"
      },
      "execution_count": 50,
      "outputs": [
        {
          "output_type": "display_data",
          "data": {
            "text/plain": [
              "<Figure size 1000x800 with 2 Axes>"
            ],
            "image/png": "[encoded data removed]"
          },
          "metadata": {}
        }
      ]
    },
    {
      "cell_type": "code",
      "source": [
        "plt.figure(figsize=(6, 4))\n",
        "df['Mortality_Status'].value_counts().plot(kind='bar')\n",
        "plt.title('Distribution of Mortality Status')\n",
        "plt.show()"
      ],
      "metadata": {
        "colab": {
          "base_uri": "https://localhost:8080/",
          "height": 433
        },
        "id": "QhBOY2OGAV4f",
        "outputId": "2fc77c8c-916b-4a83-c9e7-2adc721c8e1b"
      },
      "execution_count": 51,
      "outputs": [
        {
          "output_type": "display_data",
          "data": {
            "text/plain": [
              "<Figure size 600x400 with 1 Axes>"
            ],
            "image/png": "[encoded data removed]"
          },
          "metadata": {}
        }
      ]
    },
    {
      "cell_type": "code",
      "source": [
        "df[numerical_cols].describe().T[['min', 'max']]"
      ],
      "metadata": {
        "colab": {
          "base_uri": "https://localhost:8080/",
          "height": 238
        },
        "id": "xJmpk81_AXSc",
        "outputId": "3dbeb43c-aca2-475c-c7f3-864706653167"
      },
      "execution_count": 52,
      "outputs": [
        {
          "output_type": "execute_result",
          "data": {
            "text/plain": [
              "                         min    max\n",
              "Age                     30.0   82.0\n",
              "Grade                    1.0    4.0\n",
              "Tumor_Size               1.0   71.0\n",
              "Regional_Node_Examined   1.0   34.0\n",
              "Reginol_Node_Positive    1.0   11.0\n",
              "Survival_Months          5.0  141.0"
            ],
            "text/html": [
              "\n",
              "  <div id=\"df-3e77200f-6001-407a-8bfd-e22c248b472e\" class=\"colab-df-container\">\n",
              "    <div>\n",
              "<style scoped>\n",
              "    .dataframe tbody tr th:only-of-type {\n",
              "        vertical-align: middle;\n",
              "    }\n",
              "\n",
              "    .dataframe tbody tr th {\n",
              "        vertical-align: top;\n",
              "    }\n",
              "\n",
              "    .dataframe thead th {\n",
              "        text-align: right;\n",
              "    }\n",
              "</style>\n",
              "<table border=\"1\" class=\"dataframe\">\n",
              "  <thead>\n",
              "    <tr style=\"text-align: right;\">\n",
              "      <th></th>\n",
              "      <th>min</th>\n",
              "      <th>max</th>\n",
              "    </tr>\n",
              "  </thead>\n",
              "  <tbody>\n",
              "    <tr>\n",
              "      <th>Age</th>\n",
              "      <td>30.0</td>\n",
              "      <td>82.0</td>\n",
              "    </tr>\n",
              "    <tr>\n",
              "      <th>Grade</th>\n",
              "      <td>1.0</td>\n",
              "      <td>4.0</td>\n",
              "    </tr>\n",
              "    <tr>\n",
              "      <th>Tumor_Size</th>\n",
              "      <td>1.0</td>\n",
              "      <td>71.0</td>\n",
              "    </tr>\n",
              "    <tr>\n",
              "      <th>Regional_Node_Examined</th>\n",
              "      <td>1.0</td>\n",
              "      <td>34.0</td>\n",
              "    </tr>\n",
              "    <tr>\n",
              "      <th>Reginol_Node_Positive</th>\n",
              "      <td>1.0</td>\n",
              "      <td>11.0</td>\n",
              "    </tr>\n",
              "    <tr>\n",
              "      <th>Survival_Months</th>\n",
              "      <td>5.0</td>\n",
              "      <td>141.0</td>\n",
              "    </tr>\n",
              "  </tbody>\n",
              "</table>\n",
              "</div>\n",
              "    <div class=\"colab-df-buttons\">\n",
              "\n",
              "  <div class=\"colab-df-container\">\n",
              "    <button class=\"colab-df-convert\" onclick=\"convertToInteractive('df-3e77200f-6001-407a-8bfd-e22c248b472e')\"\n",
              "            title=\"Convert this dataframe to an interactive table.\"\n",
              "            style=\"display:none;\">\n",
              "\n",
              "  <svg xmlns=\"http://www.w3.org/2000/svg\" height=\"24px\" viewBox=\"0 -960 960 960\">\n",
              "    <path d=\"M120-120v-720h720v720H120Zm60-500h600v-160H180v160Zm220 220h160v-160H400v160Zm0 220h160v-160H400v160ZM180-400h160v-160H180v160Zm440 0h160v-160H620v160ZM180-180h160v-160H180v160Zm440 0h160v-160H620v160Z\"/>\n",
              "  </svg>\n",
              "    </button>\n",
              "\n",
              "  <style>\n",
              "    .colab-df-container {\n",
              "      display:flex;\n",
              "      gap: 12px;\n",
              "    }\n",
              "\n",
              "    .colab-df-convert {\n",
              "      background-color: #E8F0FE;\n",
              "      border: none;\n",
              "      border-radius: 50%;\n",
              "      cursor: pointer;\n",
              "      display: none;\n",
              "      fill: #1967D2;\n",
              "      height: 32px;\n",
              "      padding: 0 0 0 0;\n",
              "      width: 32px;\n",
              "    }\n",
              "\n",
              "    .colab-df-convert:hover {\n",
              "      background-color: #E2EBFA;\n",
              "      box-shadow: 0px 1px 2px rgba(60, 64, 67, 0.3), 0px 1px 3px 1px rgba(60, 64, 67, 0.15);\n",
              "      fill: #174EA6;\n",
              "    }\n",
              "\n",
              "    .colab-df-buttons div {\n",
              "      margin-bottom: 4px;\n",
              "    }\n",
              "\n",
              "    [theme=dark] .colab-df-convert {\n",
              "      background-color: #3B4455;\n",
              "      fill: #D2E3FC;\n",
              "    }\n",
              "\n",
              "    [theme=dark] .colab-df-convert:hover {\n",
              "      background-color: #434B5C;\n",
              "      box-shadow: 0px 1px 3px 1px rgba(0, 0, 0, 0.15);\n",
              "      filter: drop-shadow(0px 1px 2px rgba(0, 0, 0, 0.3));\n",
              "      fill: #FFFFFF;\n",
              "    }\n",
              "  </style>\n",
              "\n",
              "    <script>\n",
              "      const buttonEl =\n",
              "        document.querySelector('#df-3e77200f-6001-407a-8bfd-e22c248b472e button.colab-df-convert');\n",
              "      buttonEl.style.display =\n",
              "        google.colab.kernel.accessAllowed ? 'block' : 'none';\n",
              "\n",
              "      async function convertToInteractive(key) {\n",
              "        const element = document.querySelector('#df-3e77200f-6001-407a-8bfd-e22c248b472e');\n",
              "        const dataTable =\n",
              "          await google.colab.kernel.invokeFunction('convertToInteractive',\n",
              "                                                    [key], {});\n",
              "        if (!dataTable) return;\n",
              "\n",
              "        const docLinkHtml = 'Like what you see? Visit the ' +\n",
              "          '<a target=\"_blank\" href=https://colab.research.google.com/notebooks/data_table.ipynb>data table notebook</a>'\n",
              "          + ' to learn more about interactive tables.';\n",
              "        element.innerHTML = '';\n",
              "        dataTable['output_type'] = 'display_data';\n",
              "        await google.colab.output.renderOutput(dataTable, element);\n",
              "        const docLink = document.createElement('div');\n",
              "        docLink.innerHTML = docLinkHtml;\n",
              "        element.appendChild(docLink);\n",
              "      }\n",
              "    </script>\n",
              "  </div>\n",
              "\n",
              "\n",
              "    <div id=\"df-10b7963e-ab2e-4508-90d4-9ab7fd8e7c9a\">\n",
              "      <button class=\"colab-df-quickchart\" onclick=\"quickchart('df-10b7963e-ab2e-4508-90d4-9ab7fd8e7c9a')\"\n",
              "                title=\"Suggest charts\"\n",
              "                style=\"display:none;\">\n",
              "\n",
              "<svg xmlns=\"http://www.w3.org/2000/svg\" height=\"24px\"viewBox=\"0 0 24 24\"\n",
              "     width=\"24px\">\n",
              "    <g>\n",
              "        <path d=\"M19 3H5c-1.1 0-2 .9-2 2v14c0 1.1.9 2 2 2h14c1.1 0 2-.9 2-2V5c0-1.1-.9-2-2-2zM9 17H7v-7h2v7zm4 0h-2V7h2v10zm4 0h-2v-4h2v4z\"/>\n",
              "    </g>\n",
              "</svg>\n",
              "      </button>\n",
              "\n",
              "<style>\n",
              "  .colab-df-quickchart {\n",
              "      --bg-color: #E8F0FE;\n",
              "      --fill-color: #1967D2;\n",
              "      --hover-bg-color: #E2EBFA;\n",
              "      --hover-fill-color: #174EA6;\n",
              "      --disabled-fill-color: #AAA;\n",
              "      --disabled-bg-color: #DDD;\n",
              "  }\n",
              "\n",
              "  [theme=dark] .colab-df-quickchart {\n",
              "      --bg-color: #3B4455;\n",
              "      --fill-color: #D2E3FC;\n",
              "      --hover-bg-color: #434B5C;\n",
              "      --hover-fill-color: #FFFFFF;\n",
              "      --disabled-bg-color: #3B4455;\n",
              "      --disabled-fill-color: #666;\n",
              "  }\n",
              "\n",
              "  .colab-df-quickchart {\n",
              "    background-color: var(--bg-color);\n",
              "    border: none;\n",
              "    border-radius: 50%;\n",
              "    cursor: pointer;\n",
              "    display: none;\n",
              "    fill: var(--fill-color);\n",
              "    height: 32px;\n",
              "    padding: 0;\n",
              "    width: 32px;\n",
              "  }\n",
              "\n",
              "  .colab-df-quickchart:hover {\n",
              "    background-color: var(--hover-bg-color);\n",
              "    box-shadow: 0 1px 2px rgba(60, 64, 67, 0.3), 0 1px 3px 1px rgba(60, 64, 67, 0.15);\n",
              "    fill: var(--button-hover-fill-color);\n",
              "  }\n",
              "\n",
              "  .colab-df-quickchart-complete:disabled,\n",
              "  .colab-df-quickchart-complete:disabled:hover {\n",
              "    background-color: var(--disabled-bg-color);\n",
              "    fill: var(--disabled-fill-color);\n",
              "    box-shadow: none;\n",
              "  }\n",
              "\n",
              "  .colab-df-spinner {\n",
              "    border: 2px solid var(--fill-color);\n",
              "    border-color: transparent;\n",
              "    border-bottom-color: var(--fill-color);\n",
              "    animation:\n",
              "      spin 1s steps(1) infinite;\n",
              "  }\n",
              "\n",
              "  @keyframes spin {\n",
              "    0% {\n",
              "      border-color: transparent;\n",
              "      border-bottom-color: var(--fill-color);\n",
              "      border-left-color: var(--fill-color);\n",
              "    }\n",
              "    20% {\n",
              "      border-color: transparent;\n",
              "      border-left-color: var(--fill-color);\n",
              "      border-top-color: var(--fill-color);\n",
              "    }\n",
              "    30% {\n",
              "      border-color: transparent;\n",
              "      border-left-color: var(--fill-color);\n",
              "      border-top-color: var(--fill-color);\n",
              "      border-right-color: var(--fill-color);\n",
              "    }\n",
              "    40% {\n",
              "      border-color: transparent;\n",
              "      border-right-color: var(--fill-color);\n",
              "      border-top-color: var(--fill-color);\n",
              "    }\n",
              "    60% {\n",
              "      border-color: transparent;\n",
              "      border-right-color: var(--fill-color);\n",
              "    }\n",
              "    80% {\n",
              "      border-color: transparent;\n",
              "      border-right-color: var(--fill-color);\n",
              "      border-bottom-color: var(--fill-color);\n",
              "    }\n",
              "    90% {\n",
              "      border-color: transparent;\n",
              "      border-bottom-color: var(--fill-color);\n",
              "    }\n",
              "  }\n",
              "</style>\n",
              "\n",
              "      <script>\n",
              "        async function quickchart(key) {\n",
              "          const quickchartButtonEl =\n",
              "            document.querySelector('#' + key + ' button');\n",
              "          quickchartButtonEl.disabled = true;  // To prevent multiple clicks.\n",
              "          quickchartButtonEl.classList.add('colab-df-spinner');\n",
              "          try {\n",
              "            const charts = await google.colab.kernel.invokeFunction(\n",
              "                'suggestCharts', [key], {});\n",
              "          } catch (error) {\n",
              "            console.error('Error during call to suggestCharts:', error);\n",
              "          }\n",
              "          quickchartButtonEl.classList.remove('colab-df-spinner');\n",
              "          quickchartButtonEl.classList.add('colab-df-quickchart-complete');\n",
              "        }\n",
              "        (() => {\n",
              "          let quickchartButtonEl =\n",
              "            document.querySelector('#df-10b7963e-ab2e-4508-90d4-9ab7fd8e7c9a button');\n",
              "          quickchartButtonEl.style.display =\n",
              "            google.colab.kernel.accessAllowed ? 'block' : 'none';\n",
              "        })();\n",
              "      </script>\n",
              "    </div>\n",
              "\n",
              "    </div>\n",
              "  </div>\n"
            ],
            "application/vnd.google.colaboratory.intrinsic+json": {
              "type": "dataframe",
              "summary": "{\n  \"name\": \"df[numerical_cols]\",\n  \"rows\": 6,\n  \"fields\": [\n    {\n      \"column\": \"min\",\n      \"properties\": {\n        \"dtype\": \"number\",\n        \"std\": 11.623252556836231,\n        \"min\": 1.0,\n        \"max\": 30.0,\n        \"num_unique_values\": 3,\n        \"samples\": [\n          30.0,\n          1.0,\n          5.0\n        ],\n        \"semantic_type\": \"\",\n        \"description\": \"\"\n      }\n    },\n    {\n      \"column\": \"max\",\n      \"properties\": {\n        \"dtype\": \"number\",\n        \"std\": 51.63493649329558,\n        \"min\": 4.0,\n        \"max\": 141.0,\n        \"num_unique_values\": 6,\n        \"samples\": [\n          82.0,\n          4.0,\n          141.0\n        ],\n        \"semantic_type\": \"\",\n        \"description\": \"\"\n      }\n    }\n  ]\n}"
            }
          },
          "metadata": {},
          "execution_count": 52
        }
      ]
    },
    {
      "cell_type": "code",
      "source": [
        "from sklearn.preprocessing import MinMaxScaler\n",
        "\n",
        "features_to_normalize = ['Age', 'Grade', 'Tumor_Size',\n",
        "                         'Regional_Node_Examined', 'Reginol_Node_Positive',\n",
        "                         'Survival_Months']\n",
        "\n",
        "scaler = MinMaxScaler()\n",
        "df[features_to_normalize] = scaler.fit_transform(df[features_to_normalize])"
      ],
      "metadata": {
        "id": "YQw-2m3wAYF3"
      },
      "execution_count": 53,
      "outputs": []
    },
    {
      "cell_type": "code",
      "source": [
        "print(df[['Sex', 'Mortality_Status']].dtypes)"
      ],
      "metadata": {
        "colab": {
          "base_uri": "https://localhost:8080/"
        },
        "id": "sXHD6vrsAaLd",
        "outputId": "367be1d6-fb81-499b-abe7-0e6a95009410"
      },
      "execution_count": 54,
      "outputs": [
        {
          "output_type": "stream",
          "name": "stdout",
          "text": [
            "Sex                 category\n",
            "Mortality_Status      object\n",
            "dtype: object\n"
          ]
        }
      ]
    },
    {
      "cell_type": "code",
      "source": [
        "df.to_csv('cleaned_dataset.csv', index=False)"
      ],
      "metadata": {
        "id": "ZT36Smx-AhLH"
      },
      "execution_count": 55,
      "outputs": []
    },
    {
      "cell_type": "code",
      "source": [
        "loaded_df = pd.read_csv('cleaned_dataset.csv')\n",
        "\n",
        "print(loaded_df.head())\n",
        "print(loaded_df.info())"
      ],
      "metadata": {
        "colab": {
          "base_uri": "https://localhost:8080/"
        },
        "id": "MFZlrdirAkBJ",
        "outputId": "272bb87e-daa6-4224-e463-aa03fb1fcb25"
      },
      "execution_count": 56,
      "outputs": [
        {
          "output_type": "stream",
          "name": "stdout",
          "text": [
            "        Age     Sex T_Stage N_Stage 6th_Stage             Differentiated  \\\n",
            "0  0.730769  Female      T1      N1       IIA      Poorly differentiated   \n",
            "1  0.384615  Female      T2      N2      IIIA  Moderately differentiated   \n",
            "2  0.538462  Female      T3      N3      IIIC  Moderately differentiated   \n",
            "3  0.538462  Female      T1      N1       IIA      Poorly differentiated   \n",
            "4  0.326923  Female      T2      N1       IIB      Poorly differentiated   \n",
            "\n",
            "      Grade   A_Stage  Tumor_Size Estrogen_Status Progesterone_Status  \\\n",
            "0  0.666667  Regional    0.042857        Positive            Positive   \n",
            "1  0.333333  Regional    0.485714        Positive            Positive   \n",
            "2  0.333333  Regional    0.885714        Positive            Positive   \n",
            "3  0.666667  Regional    0.242857        Positive            Positive   \n",
            "4  0.666667  Regional    0.571429        Positive            Positive   \n",
            "\n",
            "   Regional_Node_Examined  Reginol_Node_Positive  Survival_Months  \\\n",
            "0                0.696970                    0.0         0.404412   \n",
            "1                0.393939                    0.4         0.419118   \n",
            "2                0.393939                    0.6         0.514706   \n",
            "3                0.030303                    0.0         0.580882   \n",
            "4                0.060606                    0.0         0.330882   \n",
            "\n",
            "  Mortality_Status  \n",
            "0            Alive  \n",
            "1            Alive  \n",
            "2            Alive  \n",
            "3            Alive  \n",
            "4            Alive  \n",
            "<class 'pandas.core.frame.DataFrame'>\n",
            "RangeIndex: 4023 entries, 0 to 4022\n",
            "Data columns (total 15 columns):\n",
            " #   Column                  Non-Null Count  Dtype  \n",
            "---  ------                  --------------  -----  \n",
            " 0   Age                     4023 non-null   float64\n",
            " 1   Sex                     4023 non-null   object \n",
            " 2   T_Stage                 4023 non-null   object \n",
            " 3   N_Stage                 4023 non-null   object \n",
            " 4   6th_Stage               4023 non-null   object \n",
            " 5   Differentiated          4023 non-null   object \n",
            " 6   Grade                   4023 non-null   float64\n",
            " 7   A_Stage                 4023 non-null   object \n",
            " 8   Tumor_Size              4023 non-null   float64\n",
            " 9   Estrogen_Status         4023 non-null   object \n",
            " 10  Progesterone_Status     4023 non-null   object \n",
            " 11  Regional_Node_Examined  4023 non-null   float64\n",
            " 12  Reginol_Node_Positive   4023 non-null   float64\n",
            " 13  Survival_Months         4023 non-null   float64\n",
            " 14  Mortality_Status        4023 non-null   object \n",
            "dtypes: float64(6), object(9)\n",
            "memory usage: 471.6+ KB\n",
            "None\n"
          ]
        }
      ]
    },
    {
      "cell_type": "code",
      "source": [
        "import pandas as pd\n",
        "\n",
        "df = pd.read_csv('cleaned_dataset.csv')"
      ],
      "metadata": {
        "id": "rVxTfR9mAl9Y"
      },
      "execution_count": 57,
      "outputs": []
    },
    {
      "cell_type": "code",
      "source": [
        "# Create the classification dataset\n",
        "classification_df = df.drop(columns=['Survival_Months'])\n",
        "\n",
        "classification_df['Mortality_Status'] = classification_df['Mortality_Status'].map({'Alive': 0, 'Dead': 1})\n",
        "\n",
        "print(classification_df.head())\n",
        "print(classification_df['Mortality_Status'].value_counts())"
      ],
      "metadata": {
        "colab": {
          "base_uri": "https://localhost:8080/"
        },
        "id": "wJcqtGUUAq3X",
        "outputId": "6b32e5da-7847-4baf-f8a3-a10a55f9bf52"
      },
      "execution_count": 58,
      "outputs": [
        {
          "output_type": "stream",
          "name": "stdout",
          "text": [
            "        Age     Sex T_Stage N_Stage 6th_Stage             Differentiated  \\\n",
            "0  0.730769  Female      T1      N1       IIA      Poorly differentiated   \n",
            "1  0.384615  Female      T2      N2      IIIA  Moderately differentiated   \n",
            "2  0.538462  Female      T3      N3      IIIC  Moderately differentiated   \n",
            "3  0.538462  Female      T1      N1       IIA      Poorly differentiated   \n",
            "4  0.326923  Female      T2      N1       IIB      Poorly differentiated   \n",
            "\n",
            "      Grade   A_Stage  Tumor_Size Estrogen_Status Progesterone_Status  \\\n",
            "0  0.666667  Regional    0.042857        Positive            Positive   \n",
            "1  0.333333  Regional    0.485714        Positive            Positive   \n",
            "2  0.333333  Regional    0.885714        Positive            Positive   \n",
            "3  0.666667  Regional    0.242857        Positive            Positive   \n",
            "4  0.666667  Regional    0.571429        Positive            Positive   \n",
            "\n",
            "   Regional_Node_Examined  Reginol_Node_Positive  Mortality_Status  \n",
            "0                0.696970                    0.0                 0  \n",
            "1                0.393939                    0.4                 0  \n",
            "2                0.393939                    0.6                 0  \n",
            "3                0.030303                    0.0                 0  \n",
            "4                0.060606                    0.0                 0  \n",
            "Mortality_Status\n",
            "0    3407\n",
            "1     616\n",
            "Name: count, dtype: int64\n"
          ]
        }
      ]
    },
    {
      "cell_type": "code",
      "source": [
        "# Create the regression dataset\n",
        "regression_df = df.drop(columns=['Mortality_Status'])\n",
        "\n",
        "print(regression_df.head())\n",
        "print(regression_df['Survival_Months'].describe())"
      ],
      "metadata": {
        "colab": {
          "base_uri": "https://localhost:8080/"
        },
        "id": "Vrwof8ccAtr5",
        "outputId": "6273e83a-2649-4de2-d614-547a24afbb87"
      },
      "execution_count": 59,
      "outputs": [
        {
          "output_type": "stream",
          "name": "stdout",
          "text": [
            "        Age     Sex T_Stage N_Stage 6th_Stage             Differentiated  \\\n",
            "0  0.730769  Female      T1      N1       IIA      Poorly differentiated   \n",
            "1  0.384615  Female      T2      N2      IIIA  Moderately differentiated   \n",
            "2  0.538462  Female      T3      N3      IIIC  Moderately differentiated   \n",
            "3  0.538462  Female      T1      N1       IIA      Poorly differentiated   \n",
            "4  0.326923  Female      T2      N1       IIB      Poorly differentiated   \n",
            "\n",
            "      Grade   A_Stage  Tumor_Size Estrogen_Status Progesterone_Status  \\\n",
            "0  0.666667  Regional    0.042857        Positive            Positive   \n",
            "1  0.333333  Regional    0.485714        Positive            Positive   \n",
            "2  0.333333  Regional    0.885714        Positive            Positive   \n",
            "3  0.666667  Regional    0.242857        Positive            Positive   \n",
            "4  0.666667  Regional    0.571429        Positive            Positive   \n",
            "\n",
            "   Regional_Node_Examined  Reginol_Node_Positive  Survival_Months  \n",
            "0                0.696970                    0.0         0.404412  \n",
            "1                0.393939                    0.4         0.419118  \n",
            "2                0.393939                    0.6         0.514706  \n",
            "3                0.030303                    0.0         0.580882  \n",
            "4                0.060606                    0.0         0.330882  \n",
            "count    4023.000000\n",
            "mean        0.487720\n",
            "std         0.168572\n",
            "min         0.000000\n",
            "25%         0.375000\n",
            "50%         0.500000\n",
            "75%         0.625000\n",
            "max         1.000000\n",
            "Name: Survival_Months, dtype: float64\n"
          ]
        }
      ]
    },
    {
      "cell_type": "code",
      "source": [
        "# Save the classification dataset\n",
        "classification_df.to_csv('/content/drive/MyDrive/Colab Notebooks/classification_dataset.csv', index=False)\n",
        "\n",
        "# Save the regression dataset\n",
        "regression_df.to_csv('/content/drive/MyDrive/Colab Notebooks/regression_dataset.csv', index=False)"
      ],
      "metadata": {
        "id": "S9Vuh7YoAvxz"
      },
      "execution_count": 60,
      "outputs": []
    },
    {
      "cell_type": "code",
      "source": [
        "classification_df_loaded = pd.read_csv('/content/drive/MyDrive/Colab Notebooks/classification_dataset.csv')\n",
        "print(classification_df_loaded.head())\n",
        "print(\"----------\"*10)\n",
        "\n",
        "regression_df_loaded = pd.read_csv('/content/drive/MyDrive/Colab Notebooks/regression_dataset.csv')\n",
        "print(regression_df_loaded.head())"
      ],
      "metadata": {
        "colab": {
          "base_uri": "https://localhost:8080/"
        },
        "id": "OqyOcYaxA0HR",
        "outputId": "a7c169af-d683-4706-81e4-3eaa3d8a7a2e"
      },
      "execution_count": 63,
      "outputs": [
        {
          "output_type": "stream",
          "name": "stdout",
          "text": [
            "        Age     Sex T_Stage N_Stage 6th_Stage             Differentiated  \\\n",
            "0  0.730769  Female      T1      N1       IIA      Poorly differentiated   \n",
            "1  0.384615  Female      T2      N2      IIIA  Moderately differentiated   \n",
            "2  0.538462  Female      T3      N3      IIIC  Moderately differentiated   \n",
            "3  0.538462  Female      T1      N1       IIA      Poorly differentiated   \n",
            "4  0.326923  Female      T2      N1       IIB      Poorly differentiated   \n",
            "\n",
            "      Grade   A_Stage  Tumor_Size Estrogen_Status Progesterone_Status  \\\n",
            "0  0.666667  Regional    0.042857        Positive            Positive   \n",
            "1  0.333333  Regional    0.485714        Positive            Positive   \n",
            "2  0.333333  Regional    0.885714        Positive            Positive   \n",
            "3  0.666667  Regional    0.242857        Positive            Positive   \n",
            "4  0.666667  Regional    0.571429        Positive            Positive   \n",
            "\n",
            "   Regional_Node_Examined  Reginol_Node_Positive  Mortality_Status  \n",
            "0                0.696970                    0.0                 0  \n",
            "1                0.393939                    0.4                 0  \n",
            "2                0.393939                    0.6                 0  \n",
            "3                0.030303                    0.0                 0  \n",
            "4                0.060606                    0.0                 0  \n",
            "----------------------------------------------------------------------------------------------------\n",
            "        Age     Sex T_Stage N_Stage 6th_Stage             Differentiated  \\\n",
            "0  0.730769  Female      T1      N1       IIA      Poorly differentiated   \n",
            "1  0.384615  Female      T2      N2      IIIA  Moderately differentiated   \n",
            "2  0.538462  Female      T3      N3      IIIC  Moderately differentiated   \n",
            "3  0.538462  Female      T1      N1       IIA      Poorly differentiated   \n",
            "4  0.326923  Female      T2      N1       IIB      Poorly differentiated   \n",
            "\n",
            "      Grade   A_Stage  Tumor_Size Estrogen_Status Progesterone_Status  \\\n",
            "0  0.666667  Regional    0.042857        Positive            Positive   \n",
            "1  0.333333  Regional    0.485714        Positive            Positive   \n",
            "2  0.333333  Regional    0.885714        Positive            Positive   \n",
            "3  0.666667  Regional    0.242857        Positive            Positive   \n",
            "4  0.666667  Regional    0.571429        Positive            Positive   \n",
            "\n",
            "   Regional_Node_Examined  Reginol_Node_Positive  Survival_Months  \n",
            "0                0.696970                    0.0         0.404412  \n",
            "1                0.393939                    0.4         0.419118  \n",
            "2                0.393939                    0.6         0.514706  \n",
            "3                0.030303                    0.0         0.580882  \n",
            "4                0.060606                    0.0         0.330882  \n"
          ]
        }
      ]
    },
    {
      "cell_type": "code",
      "source": [
        "df.to_csv('/content/drive/MyDrive/Colab Notebooks/final_preprocessed_data.csv', index=False)"
      ],
      "metadata": {
        "id": "BzIwzvd2BNit"
      },
      "execution_count": 64,
      "outputs": []
    }
  ]
}
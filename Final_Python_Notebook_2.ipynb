{
  "nbformat": 4,
  "nbformat_minor": 0,
  "metadata": {
    "colab": {
      "provenance": []
    },
    "kernelspec": {
      "name": "python3",
      "display_name": "Python 3"
    },
    "language_info": {
      "name": "python"
    }
  },
  "cells": [
    {
      "cell_type": "markdown",
      "source": [
        "# **Final Python Notebook 2**\n",
        "*   Author - C.M.M.S Silva\n",
        "*   IIT ID - 20230183\n",
        "*   UoW ID - w2053190\n",
        "\n",
        "\n"
      ],
      "metadata": {
        "id": "OSMmur_SUbzv"
      }
    },
    {
      "cell_type": "code",
      "source": [
        "import pandas as pd\n",
        "import numpy as np\n",
        "from sklearn.preprocessing import LabelEncoder, StandardScaler\n",
        "from sklearn.model_selection import train_test_split, GridSearchCV\n",
        "from sklearn.naive_bayes import GaussianNB\n",
        "from sklearn.linear_model import LogisticRegression\n",
        "from sklearn.neighbors import KNeighborsClassifier\n",
        "from sklearn.metrics import classification_report, confusion_matrix, roc_auc_score, roc_curve\n",
        "import matplotlib.pyplot as plt"
      ],
      "metadata": {
        "id": "9pBrIRHuy2w6"
      },
      "execution_count": 95,
      "outputs": []
    },
    {
      "cell_type": "code",
      "source": [
        "# Load the preprocessed dataset (from Notebook 1)\n",
        "data = pd.read_csv('/content/drive/MyDrive/Colab Notebooks/final_preprocessed_data.csv')"
      ],
      "metadata": {
        "id": "vUWzMnrAGjQF"
      },
      "execution_count": 96,
      "outputs": []
    },
    {
      "cell_type": "code",
      "source": [
        "# Check the first few rows of the data\n",
        "print(data.head())"
      ],
      "metadata": {
        "colab": {
          "base_uri": "https://localhost:8080/"
        },
        "id": "JkUHbCGPGwqV",
        "outputId": "fc090ac0-7b8a-4112-9a93-ee8d01119f0e"
      },
      "execution_count": 97,
      "outputs": [
        {
          "output_type": "stream",
          "name": "stdout",
          "text": [
            "        Age     Sex T_Stage N_Stage 6th_Stage             Differentiated  \\\n",
            "0  0.730769  Female      T1      N1       IIA      Poorly differentiated   \n",
            "1  0.384615  Female      T2      N2      IIIA  Moderately differentiated   \n",
            "2  0.538462  Female      T3      N3      IIIC  Moderately differentiated   \n",
            "3  0.538462  Female      T1      N1       IIA      Poorly differentiated   \n",
            "4  0.326923  Female      T2      N1       IIB      Poorly differentiated   \n",
            "\n",
            "      Grade   A_Stage  Tumor_Size Estrogen_Status Progesterone_Status  \\\n",
            "0  0.666667  Regional    0.042857        Positive            Positive   \n",
            "1  0.333333  Regional    0.485714        Positive            Positive   \n",
            "2  0.333333  Regional    0.885714        Positive            Positive   \n",
            "3  0.666667  Regional    0.242857        Positive            Positive   \n",
            "4  0.666667  Regional    0.571429        Positive            Positive   \n",
            "\n",
            "   Regional_Node_Examined  Reginol_Node_Positive  Survival_Months  \\\n",
            "0                0.696970                    0.0         0.404412   \n",
            "1                0.393939                    0.4         0.419118   \n",
            "2                0.393939                    0.6         0.514706   \n",
            "3                0.030303                    0.0         0.580882   \n",
            "4                0.060606                    0.0         0.330882   \n",
            "\n",
            "  Mortality_Status  \n",
            "0            Alive  \n",
            "1            Alive  \n",
            "2            Alive  \n",
            "3            Alive  \n",
            "4            Alive  \n"
          ]
        }
      ]
    },
    {
      "cell_type": "code",
      "source": [
        "print(data.columns)"
      ],
      "metadata": {
        "colab": {
          "base_uri": "https://localhost:8080/"
        },
        "id": "9aTSq1KDjjBF",
        "outputId": "77ced964-eadd-4e40-fd31-72d45457f17a"
      },
      "execution_count": 98,
      "outputs": [
        {
          "output_type": "stream",
          "name": "stdout",
          "text": [
            "Index(['Age', 'Sex', 'T_Stage', 'N_Stage', '6th_Stage', 'Differentiated',\n",
            "       'Grade', 'A_Stage', 'Tumor_Size', 'Estrogen_Status',\n",
            "       'Progesterone_Status', 'Regional_Node_Examined',\n",
            "       'Reginol_Node_Positive', 'Survival_Months', 'Mortality_Status'],\n",
            "      dtype='object')\n"
          ]
        }
      ]
    },
    {
      "cell_type": "code",
      "source": [
        "print(data.shape)"
      ],
      "metadata": {
        "id": "rCSeov2hj41y",
        "outputId": "d6aaf89a-5e6d-4709-bf5a-e26d152b5586",
        "colab": {
          "base_uri": "https://localhost:8080/"
        }
      },
      "execution_count": 99,
      "outputs": [
        {
          "output_type": "stream",
          "name": "stdout",
          "text": [
            "(4023, 15)\n"
          ]
        }
      ]
    },
    {
      "cell_type": "code",
      "source": [
        "# Convert categorical variables to numeric using Label Encoding\n",
        "label_encoder = LabelEncoder()\n",
        "for column in data.select_dtypes(include=['object']).columns:\n",
        "    data[column] = label_encoder.fit_transform(data[column])"
      ],
      "metadata": {
        "id": "wzsEP5OZGzUO"
      },
      "execution_count": 100,
      "outputs": []
    },
    {
      "cell_type": "code",
      "source": [
        "# Define features and target variable\n",
        "X = data.drop(columns=['Mortality_Status'])\n",
        "y = data['Mortality_Status']"
      ],
      "metadata": {
        "id": "1Fc6D-Q6G2EC"
      },
      "execution_count": 101,
      "outputs": []
    },
    {
      "cell_type": "code",
      "source": [
        "# Standardize the feature set\n",
        "scaler = StandardScaler()\n",
        "X = scaler.fit_transform(X)"
      ],
      "metadata": {
        "id": "30Z4Jz8PHLNX"
      },
      "execution_count": 102,
      "outputs": []
    },
    {
      "cell_type": "code",
      "source": [
        "# Split the data into training and testing sets\n",
        "X_train, X_test, y_train, y_test = train_test_split(X, y, test_size=0.2, random_state=42, stratify=y)"
      ],
      "metadata": {
        "id": "yY-b7XJ3HM1L"
      },
      "execution_count": 103,
      "outputs": []
    },
    {
      "cell_type": "code",
      "source": [
        "# Model 1: Naïve Bayes\n",
        "nb_model = GaussianNB()\n",
        "nb_model.fit(X_train, y_train)\n",
        "nb_predictions = nb_model.predict(X_test)\n",
        "print(\"Naïve Bayes Classification Report:\")\n",
        "print(classification_report(y_test, nb_predictions))"
      ],
      "metadata": {
        "colab": {
          "base_uri": "https://localhost:8080/"
        },
        "id": "2EhyiPUdHbQB",
        "outputId": "d33a8338-06e9-472b-ad84-52510d92d8ca"
      },
      "execution_count": 104,
      "outputs": [
        {
          "output_type": "stream",
          "name": "stdout",
          "text": [
            "Naïve Bayes Classification Report:\n",
            "              precision    recall  f1-score   support\n",
            "\n",
            "           0       0.90      0.86      0.88       682\n",
            "           1       0.39      0.50      0.44       123\n",
            "\n",
            "    accuracy                           0.80       805\n",
            "   macro avg       0.65      0.68      0.66       805\n",
            "weighted avg       0.83      0.80      0.81       805\n",
            "\n"
          ]
        }
      ]
    },
    {
      "cell_type": "code",
      "source": [
        "# Model 2: Logistic Regression\n",
        "lr_model = LogisticRegression(max_iter=2000, solver='saga')\n",
        "lr_model.fit(X_train, y_train)\n",
        "lr_predictions = lr_model.predict(X_test)\n",
        "print(\"Logistic Regression Classification Report:\")\n",
        "print(classification_report(y_test, lr_predictions))"
      ],
      "metadata": {
        "colab": {
          "base_uri": "https://localhost:8080/"
        },
        "id": "v9qwufqJHdvP",
        "outputId": "9c780954-34f7-441b-be45-0e5d6c4267c1"
      },
      "execution_count": 105,
      "outputs": [
        {
          "output_type": "stream",
          "name": "stdout",
          "text": [
            "Logistic Regression Classification Report:\n",
            "              precision    recall  f1-score   support\n",
            "\n",
            "           0       0.91      0.98      0.94       682\n",
            "           1       0.78      0.44      0.56       123\n",
            "\n",
            "    accuracy                           0.90       805\n",
            "   macro avg       0.84      0.71      0.75       805\n",
            "weighted avg       0.89      0.90      0.88       805\n",
            "\n"
          ]
        }
      ]
    },
    {
      "cell_type": "code",
      "source": [
        "# Model 3: K-Nearest Neighbours\n",
        "knn_model = KNeighborsClassifier()\n",
        "knn_model.fit(X_train, y_train)\n",
        "knn_predictions = knn_model.predict(X_test)\n",
        "print(\"K-Nearest Neighbours Classification Report:\")\n",
        "print(classification_report(y_test, knn_predictions))"
      ],
      "metadata": {
        "colab": {
          "base_uri": "https://localhost:8080/"
        },
        "id": "6WutrUDlHlil",
        "outputId": "c8f34109-9526-4a3a-a630-8d46b4b224b3"
      },
      "execution_count": 106,
      "outputs": [
        {
          "output_type": "stream",
          "name": "stdout",
          "text": [
            "K-Nearest Neighbours Classification Report:\n",
            "              precision    recall  f1-score   support\n",
            "\n",
            "           0       0.89      0.97      0.93       682\n",
            "           1       0.66      0.35      0.46       123\n",
            "\n",
            "    accuracy                           0.87       805\n",
            "   macro avg       0.78      0.66      0.69       805\n",
            "weighted avg       0.86      0.87      0.86       805\n",
            "\n"
          ]
        }
      ]
    },
    {
      "cell_type": "code",
      "source": [
        "# Store the scores for KNN\n",
        "knn_report = classification_report(y_test, knn_predictions, output_dict=True)\n",
        "knn_accuracy = knn_report['accuracy']\n",
        "knn_precision = knn_report['weighted avg']['precision']\n",
        "knn_recall = knn_report['weighted avg']['recall']\n",
        "knn_f1 = knn_report['weighted avg']['f1-score']\n",
        "\n",
        "# Store the scores for Naive Bayes\n",
        "nb_report = classification_report(y_test, nb_predictions, output_dict=True)\n",
        "nb_accuracy = nb_report['accuracy']\n",
        "nb_precision = nb_report['weighted avg']['precision']\n",
        "nb_recall = nb_report['weighted avg']['recall']\n",
        "nb_f1 = nb_report['weighted avg']['f1-score']\n",
        "\n",
        "# Store the scores for Logistic Regression\n",
        "lr_report = classification_report(y_test, lr_predictions, output_dict=True)\n",
        "lr_accuracy = lr_report['accuracy']\n",
        "lr_precision = lr_report['weighted avg']['precision']\n",
        "lr_recall = lr_report['weighted avg']['recall']\n",
        "lr_f1 = lr_report['weighted avg']['f1-score']\n",
        "\n",
        "nb_auc = roc_auc_score(y_test, nb_model.predict_proba(X_test)[:, 1])\n",
        "lr_auc = roc_auc_score(y_test, lr_model.predict_proba(X_test)[:, 1])\n",
        "knn_auc = roc_auc_score(y_test, knn_model.predict_proba(X_test)[:, 1])\n",
        "\n",
        "# Create a pandas DataFrame for the table\n",
        "import pandas as pd\n",
        "data = {\n",
        "    'Model': ['Naïve Bayes', 'Logistic Regression', 'K-Nearest Neighbours'],\n",
        "    'Accuracy': [nb_accuracy, lr_accuracy, knn_accuracy],\n",
        "    'Precision': [nb_precision, lr_precision, knn_precision],\n",
        "    'Recall': [nb_recall, lr_recall, knn_recall],\n",
        "    'F1-Score': [nb_f1, lr_f1, knn_f1],\n",
        "    'AUC-ROC': [nb_auc, lr_auc, knn_auc]\n",
        "}\n",
        "df = pd.DataFrame(data)\n",
        "print(df)"
      ],
      "metadata": {
        "colab": {
          "base_uri": "https://localhost:8080/"
        },
        "id": "jl-Yy2xQEHYR",
        "outputId": "7820ee5f-7201-4283-ef39-12328b221098"
      },
      "execution_count": 107,
      "outputs": [
        {
          "output_type": "stream",
          "name": "stdout",
          "text": [
            "                  Model  Accuracy  Precision    Recall  F1-Score   AUC-ROC\n",
            "0           Naïve Bayes  0.803727   0.825511  0.803727  0.813135  0.782216\n",
            "1   Logistic Regression  0.895652   0.887358  0.895652  0.882965  0.846244\n",
            "2  K-Nearest Neighbours  0.873292   0.856695  0.873292  0.856331  0.769091\n"
          ]
        }
      ]
    },
    {
      "cell_type": "code",
      "source": [
        "# Confusion matrices and ROC curves\n",
        "models = {'Naïve Bayes': nb_model, 'Logistic Regression': lr_model, 'K-Nearest Neighbours': knn_model}\n",
        "for name, model in models.items():\n",
        "    predictions = model.predict(X_test)\n",
        "    cm = confusion_matrix(y_test, predictions)\n",
        "    print(f'Confusion Matrix for {name} Model:\\n', cm)"
      ],
      "metadata": {
        "colab": {
          "base_uri": "https://localhost:8080/"
        },
        "id": "VA5PHQbh0zen",
        "outputId": "69cd0ec1-29c5-4ac5-9bf2-378a8d36017d"
      },
      "execution_count": 108,
      "outputs": [
        {
          "output_type": "stream",
          "name": "stdout",
          "text": [
            "Confusion Matrix for Naïve Bayes Model:\n",
            " [[586  96]\n",
            " [ 62  61]]\n",
            "Confusion Matrix for Logistic Regression Model:\n",
            " [[667  15]\n",
            " [ 69  54]]\n",
            "Confusion Matrix for K-Nearest Neighbours Model:\n",
            " [[660  22]\n",
            " [ 80  43]]\n"
          ]
        }
      ]
    },
    {
      "cell_type": "code",
      "source": [
        "# ROC Curves\n",
        "for name, model in models.items():\n",
        "    if hasattr(model, \"predict_proba\"):\n",
        "        y_proba = model.predict_proba(X_test)[:, 1]\n",
        "        fpr, tpr, _ = roc_curve(y_test, y_proba)\n",
        "        auc = roc_auc_score(y_test, y_proba)\n",
        "        plt.plot(fpr, tpr, label=f'{name} (AUC = {auc:.2f})')\n",
        "\n",
        "plt.xlabel('False Positive Rate')\n",
        "plt.ylabel('True Positive Rate')\n",
        "plt.title('ROC Curves for Cancer Mortality Status Models')\n",
        "plt.legend()\n",
        "plt.show()"
      ],
      "metadata": {
        "colab": {
          "base_uri": "https://localhost:8080/",
          "height": 472
        },
        "id": "L7iyLSkx17Pk",
        "outputId": "7f60c427-1a28-4b15-dbcc-f8df72f4ec8f"
      },
      "execution_count": 109,
      "outputs": [
        {
          "output_type": "display_data",
          "data": {
            "text/plain": [
              "<Figure size 640x480 with 1 Axes>"
            ],
            "image/png": "[encoded data removed]"
          },
          "metadata": {}
        }
      ]
    },
    {
      "cell_type": "code",
      "source": [
        "# Hyperparameter tuning with GridSearchCV for Logistic Regression\n",
        "param_grid = {'penalty': ['l1', 'l2'],'C': [0.1, 1, 10], 'solver': ['liblinear', 'saga'] }\n",
        "grid_search = GridSearchCV(LogisticRegression(max_iter=2000), param_grid, cv=5, scoring='accuracy')\n",
        "grid_search.fit(X_train, y_train)\n",
        "print(f'Best Logistic Regression parameters: {grid_search.best_params_}')"
      ],
      "metadata": {
        "colab": {
          "base_uri": "https://localhost:8080/"
        },
        "id": "ol7qMGKrRI8B",
        "outputId": "ab258a79-3c78-4fec-bc87-278ff062b27b"
      },
      "execution_count": 110,
      "outputs": [
        {
          "output_type": "stream",
          "name": "stdout",
          "text": [
            "Best Logistic Regression parameters: {'C': 0.1, 'penalty': 'l2', 'solver': 'liblinear'}\n"
          ]
        }
      ]
    },
    {
      "cell_type": "code",
      "source": [
        "# Evaluate the tuned lr model\n",
        "best_lr_model = grid_search.best_estimator_\n",
        "best_lr_predictions = best_lr_model.predict(X_test)\n",
        "print(\"Tuned Logistic Regression Classification Report:\")\n",
        "print(classification_report(y_test, best_lr_predictions))"
      ],
      "metadata": {
        "colab": {
          "base_uri": "https://localhost:8080/"
        },
        "id": "1NDRJwOYR6jX",
        "outputId": "ec80ba74-c9ec-4fe8-a9a1-5239ee93203a"
      },
      "execution_count": 111,
      "outputs": [
        {
          "output_type": "stream",
          "name": "stdout",
          "text": [
            "Tuned Logistic Regression Classification Report:\n",
            "              precision    recall  f1-score   support\n",
            "\n",
            "           0       0.91      0.98      0.94       682\n",
            "           1       0.78      0.44      0.56       123\n",
            "\n",
            "    accuracy                           0.90       805\n",
            "   macro avg       0.84      0.71      0.75       805\n",
            "weighted avg       0.89      0.90      0.88       805\n",
            "\n"
          ]
        }
      ]
    },
    {
      "cell_type": "code",
      "source": [
        "# Confusion matrices and ROC curves after Hyperparameter Tuning\n",
        "models = {'Naïve Bayes': nb_model, 'Tuned Logistic Regression': best_lr_model, 'K Nearest Neighbours': knn_model}\n",
        "for name, model in models.items():\n",
        "    predictions = model.predict(X_test)\n",
        "    cm = confusion_matrix(y_test, predictions)\n",
        "    print(f'Confusion Matrix for {name} Model:\\n', cm)"
      ],
      "metadata": {
        "colab": {
          "base_uri": "https://localhost:8080/"
        },
        "id": "tFahBP9JHvM-",
        "outputId": "95be6a6d-4500-4b34-e03c-d688eecc4f28"
      },
      "execution_count": 112,
      "outputs": [
        {
          "output_type": "stream",
          "name": "stdout",
          "text": [
            "Confusion Matrix for Naïve Bayes Model:\n",
            " [[586  96]\n",
            " [ 62  61]]\n",
            "Confusion Matrix for Tuned Logistic Regression Model:\n",
            " [[667  15]\n",
            " [ 69  54]]\n",
            "Confusion Matrix for K Nearest Neighbours Model:\n",
            " [[660  22]\n",
            " [ 80  43]]\n"
          ]
        }
      ]
    },
    {
      "cell_type": "code",
      "source": [
        "# Store the scores for tuned Logistic Regression\n",
        "lr_report = classification_report(y_test, best_lr_predictions, output_dict=True)\n",
        "lr_accuracy = lr_report['accuracy']\n",
        "lr_precision = lr_report['weighted avg']['precision']\n",
        "lr_recall = lr_report['weighted avg']['recall']\n",
        "lr_f1 = lr_report['weighted avg']['f1-score']\n",
        "\n",
        "lr_auc = roc_auc_score(y_test, best_lr_model.predict_proba(X_test)[:, 1])\n",
        "\n",
        "import pandas as pd\n",
        "data = {\n",
        "    'Model': ['Logistic Regression'],\n",
        "    'Accuracy': [lr_accuracy],\n",
        "    'Precision': [lr_precision],\n",
        "    'Recall': [lr_recall],\n",
        "    'F1-Score': [lr_f1],\n",
        "    'AUC-ROC': [lr_auc]\n",
        "}\n",
        "df = pd.DataFrame(data)\n",
        "print(df)"
      ],
      "metadata": {
        "colab": {
          "base_uri": "https://localhost:8080/"
        },
        "id": "W8SXuN_6X9NA",
        "outputId": "60da095e-39d7-4385-d5a9-d7351fa5b430"
      },
      "execution_count": 113,
      "outputs": [
        {
          "output_type": "stream",
          "name": "stdout",
          "text": [
            "                 Model  Accuracy  Precision    Recall  F1-Score   AUC-ROC\n",
            "0  Logistic Regression  0.895652   0.887358  0.895652  0.882965  0.846744\n"
          ]
        }
      ]
    }
  ]
}